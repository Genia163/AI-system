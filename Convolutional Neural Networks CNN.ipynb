{
 "cells": [
  {
   "cell_type": "code",
   "execution_count": 13,
   "outputs": [],
   "source": [
    "import numpy as np\n",
    "import random\n",
    "import cv2\n",
    "import matplotlib.pyplot as plt\n",
    "from keras.models import Sequential\n",
    "from keras.layers import Dense, Dropout, Flatten, BatchNormalization, Activation\n",
    "from keras.layers.convolutional import Conv2D, MaxPooling2D\n",
    "from keras.constraints import maxnorm\n",
    "from keras.utils import np_utils"
   ],
   "metadata": {
    "collapsed": false,
    "pycharm": {
     "name": "#%%\n"
    }
   }
  },
  {
   "cell_type": "code",
   "execution_count": 14,
   "outputs": [
    {
     "name": "stdout",
     "output_type": "stream",
     "text": [
      "(60000, 28, 28) (60000,) (10000, 28, 28) (10000,)\n"
     ]
    }
   ],
   "source": [
    "from keras.datasets import mnist # датасет рукописных цифр от 0-9, сначала будет скачиваться\n",
    "(train_X, train_y), (test_X, test_y) = mnist.load_data()\n",
    "classes = np.unique(train_y) # Определение какие классы есть в наборе через процедуру уникальных элементов массива\n",
    "\"\"\"train_X = train_X[:10000]\n",
    "train_y = train_y[:10000]\n",
    "test_X = test_X[:100]\n",
    "test_y = test_y[:100]\"\"\" # если будет долго можно будет таким образом сократить данные и ускорить обучение\n",
    "print(train_X.shape, train_y.shape, test_X.shape, test_y.shape) # размерности тестовый и тренировочных данных"
   ],
   "metadata": {
    "collapsed": false,
    "pycharm": {
     "name": "#%%\n"
    }
   }
  },
  {
   "cell_type": "code",
   "execution_count": 15,
   "outputs": [
    {
     "data": {
      "text/plain": "<Figure size 432x288 with 10 Axes>",
      "image/png": "[encoded data removed]"
     },
     "metadata": {
      "needs_background": "light"
     },
     "output_type": "display_data"
    }
   ],
   "source": [
    "# Вывод первых 10 картинок тренировочных картинок\n",
    "for i in range(1,11):\n",
    "    plt.subplot(2, 5, i)\n",
    "    plt.imshow(train_X[i], cmap='gray') # cmap - цветовая гамма"
   ],
   "metadata": {
    "collapsed": false,
    "pycharm": {
     "name": "#%%\n"
    }
   }
  },
  {
   "cell_type": "code",
   "execution_count": 16,
   "outputs": [
    {
     "data": {
      "text/plain": "(10000, 10)"
     },
     "execution_count": 16,
     "metadata": {},
     "output_type": "execute_result"
    }
   ],
   "source": [
    "# Перевод в категориальные переменные\n",
    "train_y = np_utils.to_categorical(train_y)\n",
    "test_y = np_utils.to_categorical(test_y)\n",
    "class_num = test_y.shape[1] # для количества выходных нейронов в последнем слое НС\n",
    "test_y.shape"
   ],
   "metadata": {
    "collapsed": false,
    "pycharm": {
     "name": "#%%\n"
    }
   }
  },
  {
   "cell_type": "code",
   "execution_count": 17,
   "outputs": [
    {
     "name": "stdout",
     "output_type": "stream",
     "text": [
      "Model: \"sequential_3\"\n",
      "_________________________________________________________________\n",
      " Layer (type)                Output Shape              Param #   \n",
      "=================================================================\n",
      " conv2d_3 (Conv2D)           (None, 28, 28, 28)        476       \n",
      "                                                                 \n",
      " activation_9 (Activation)   (None, 28, 28, 28)        0         \n",
      "                                                                 \n",
      " dropout_3 (Dropout)         (None, 28, 28, 28)        0         \n",
      "                                                                 \n",
      " batch_normalization_3 (Batc  (None, 28, 28, 28)       112       \n",
      " hNormalization)                                                 \n",
      "                                                                 \n",
      " max_pooling2d_3 (MaxPooling  (None, 14, 14, 28)       0         \n",
      " 2D)                                                             \n",
      "                                                                 \n",
      " flatten_3 (Flatten)         (None, 5488)              0         \n",
      "                                                                 \n",
      " dense_6 (Dense)             (None, 256)               1405184   \n",
      "                                                                 \n",
      " activation_10 (Activation)  (None, 256)               0         \n",
      "                                                                 \n",
      " dense_7 (Dense)             (None, 10)                2570      \n",
      "                                                                 \n",
      " activation_11 (Activation)  (None, 10)                0         \n",
      "                                                                 \n",
      "=================================================================\n",
      "Total params: 1,408,342\n",
      "Trainable params: 1,408,286\n",
      "Non-trainable params: 56\n",
      "_________________________________________________________________\n"
     ]
    }
   ],
   "source": [
    "model = Sequential()\n",
    "# Сверточный слой. Он будет принимать входные данные и пропускать их через сверточные фильтры.\n",
    "# количество каналов (фильтров) 28, размер фильтра 4 x 4, форма входа (при создании первого слоя),Здесь input_shape задается так поскольку данный датасет имеет размерность 28,28 без указания количества каналов цветности, поэтому 3 аргументом стоит 1 что означает что картинки черно-белые, а также padding='same' это отступы, что означает если размер фильтра уходит за размер картинки он добавляет 0 - вые отступы\n",
    "model.add(Conv2D(28, (4, 4), padding='same',input_shape=(len(train_X[0]),len(train_X[0][0]),1)))\n",
    "model.add(Activation('relu')) #  функция активации\n",
    "# исключающий слой для предотвращения переобучения, который случайным образом устраняет соединения между слоями\n",
    "# (0,2 означает, что он отбрасывает 20% существующих соединений):\n",
    "model.add(Dropout(0.2))\n",
    "# Пакетная нормализация нормализует входные данные, поступающие в следующий слой, гарантируя,\n",
    "# что сеть всегда создает функции активации с тем же распределением, которое нам нужно:\n",
    "model.add(BatchNormalization())\n",
    "# Объединяющий слой, который, помогает сделать классификатор изображений более корректным\n",
    "# чтобы он мог изучать релевантные шаблоны.\n",
    "model.add(MaxPooling2D(pool_size=(2, 2)))\n",
    "# Cжимаем данные. Также добавим слой исключения снова:\n",
    "model.add(Flatten())\n",
    "# Используем импортированную функцию Dense и создаем первый плотно связанный слой.\n",
    "# Нам нужно указать количество нейронов в плотном слое.\n",
    "# Обратите внимание, что число нейронов в последующих слоях уменьшается,\n",
    "# в конечном итоге приближаясь к тому же числу нейронов, что и классы в наборе данных (в данном случае 10).\n",
    "# Ограничение ядра может упорядочить данные в процессе обучения, что также помогает предотвратить переобучение.\n",
    "model.add(Dense(256, kernel_constraint=maxnorm(3)))\n",
    "model.add(Activation('relu'))\n",
    "# Функция активации softmax выбирает нейрон с наибольшей вероятностью в качестве своего выходного значения,\n",
    "# предполагая, что изображение принадлежит именно этому классу:\n",
    "model.add(Dense(class_num))\n",
    "model.add(Activation('softmax'))\n",
    "model.summary()"
   ],
   "metadata": {
    "collapsed": false,
    "pycharm": {
     "name": "#%%\n"
    }
   }
  },
  {
   "cell_type": "code",
   "execution_count": 18,
   "outputs": [
    {
     "name": "stdout",
     "output_type": "stream",
     "text": [
      "Epoch 1/2\n",
      "469/469 [==============================] - 38s 79ms/step - loss: 0.1776 - accuracy: 0.9538 - val_loss: 0.0682 - val_accuracy: 0.9786\n",
      "Epoch 2/2\n",
      "469/469 [==============================] - 38s 82ms/step - loss: 0.0478 - accuracy: 0.9856 - val_loss: 0.0547 - val_accuracy: 0.9831\n"
     ]
    },
    {
     "data": {
      "text/plain": "<keras.callbacks.History at 0x277c18ca2b0>"
     },
     "execution_count": 18,
     "metadata": {},
     "output_type": "execute_result"
    }
   ],
   "source": [
    "model.compile(\n",
    "    loss='categorical_crossentropy',\n",
    "    optimizer= 'Adam',\n",
    "    metrics=['accuracy']\n",
    ")\n",
    "model.fit(train_X, train_y, validation_data=(test_X, test_y), epochs=2, batch_size=128)"
   ],
   "metadata": {
    "collapsed": false,
    "pycharm": {
     "name": "#%%\n"
    }
   }
  },
  {
   "cell_type": "code",
   "execution_count": 19,
   "outputs": [
    {
     "name": "stdout",
     "output_type": "stream",
     "text": [
      "Accuracy: 98.31%\n"
     ]
    }
   ],
   "source": [
    "scores = model.evaluate(test_X, test_y, verbose=0)\n",
    "print(\"Accuracy: %.2f%%\" % (scores[1]*100))"
   ],
   "metadata": {
    "collapsed": false,
    "pycharm": {
     "name": "#%%\n"
    }
   }
  },
  {
   "cell_type": "code",
   "execution_count": 33,
   "outputs": [
    {
     "name": "stdout",
     "output_type": "stream",
     "text": [
      "(28, 28)\n",
      "(1, 28, 28)\n",
      "1/1 [==============================] - 0s 16ms/step\n",
      "Output Label: 4\n",
      "4 [[2.22911967e-11 1.17931631e-09 9.49074264e-10 5.15079090e-11\n",
      "  9.99997616e-01 4.17222079e-09 9.12494691e-10 1.03345428e-06\n",
      "  1.39574015e-08 1.28698650e-06]]\n"
     ]
    },
    {
     "data": {
      "text/plain": "<Figure size 432x288 with 1 Axes>",
      "image/png": "[encoded data removed]"
     },
     "metadata": {
      "needs_background": "light"
     },
     "output_type": "display_data"
    }
   ],
   "source": [
    "num_image=random.randint(0, len(test_X)) #  Рандомная картинка из всех тестовых\n",
    "plt.imshow(test_X[num_image], cmap = 'gray')\n",
    "resized_img = cv2.resize(test_X[num_image], (28,28)) # Изменение размера картинки где test_X[num_image] какая картинка, а (28,28) какой размер нам нужно получить\n",
    "print(resized_img.shape)\n",
    "resized_img= np.expand_dims(resized_img, axis=0) # Развертка формы массива.\n",
    "print(resized_img.shape)\n",
    "predict=model.predict(resized_img) # Предсказание вероятностей по каждому классу для картинки\n",
    "n = np.argmax(predict) # Определение максимальной вероятности из предсказанных\n",
    "print(\"Output Label:\", n)\n",
    "print(classes[n], predict)"
   ],
   "metadata": {
    "collapsed": false,
    "pycharm": {
     "name": "#%%\n"
    }
   }
  },
  {
   "cell_type": "code",
   "execution_count": 42,
   "outputs": [
    {
     "name": "stdout",
     "output_type": "stream",
     "text": [
      "n -  8  test -  3 index -  18\n",
      "n -  9  test -  4 index -  115\n",
      "n -  2  test -  4 index -  247\n",
      "n -  6  test -  0 index -  297\n",
      "n -  7  test -  2 index -  321\n",
      "n -  5  test -  0 index -  324\n"
     ]
    },
    {
     "data": {
      "text/plain": "<Figure size 1080x720 with 6 Axes>",
      "image/png": "[encoded data removed]"
     },
     "metadata": {
      "needs_background": "light"
     },
     "output_type": "display_data"
    }
   ],
   "source": [
    "#Отрисовка 6 первых неправильно предсказанных картинок\n",
    "raz = 0\n",
    "plt.figure(figsize=(15, 10))\n",
    "for i in range(1,len(test_X)):\n",
    "    if raz == 6:\n",
    "        break\n",
    "    resized_img = cv2.resize(test_X[i], (28,28))\n",
    "    resized_img = np.expand_dims(resized_img, axis=0)\n",
    "    predict=model.predict(resized_img,verbose=0)\n",
    "    classes_n = np.argmax(predict)\n",
    "    if np.argmax(test_y[i]) != classes_n:\n",
    "        raz = raz+1\n",
    "        plt.subplot(2,3,raz)\n",
    "        plt.imshow(test_X[i], cmap = 'gray')\n",
    "        title = 'predict-',classes_n, 'real_class-', np.argmax(test_y[i])\n",
    "        plt.title(title)\n",
    "        print('n - ', classes_n , ' test - ', np.argmax(test_y[i]), 'index - ', i)"
   ],
   "metadata": {
    "collapsed": false,
    "pycharm": {
     "name": "#%%\n"
    }
   }
  },
  {
   "cell_type": "code",
   "execution_count": null,
   "outputs": [],
   "source": [],
   "metadata": {
    "collapsed": false,
    "pycharm": {
     "name": "#%%\n"
    }
   }
  }
 ],
 "metadata": {
  "kernelspec": {
   "display_name": "Python 3",
   "language": "python",
   "name": "python3"
  },
  "language_info": {
   "codemirror_mode": {
    "name": "ipython",
    "version": 2
   },
   "file_extension": ".py",
   "mimetype": "text/x-python",
   "name": "python",
   "nbconvert_exporter": "python",
   "pygments_lexer": "ipython2",
   "version": "2.7.6"
  }
 },
 "nbformat": 4,
 "nbformat_minor": 0
}
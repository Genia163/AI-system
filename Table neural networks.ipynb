{
 "cells": [
  {
   "cell_type": "code",
   "execution_count": 128,
   "outputs": [],
   "source": [
    "import matplotlib.pyplot as plt\n",
    "import numpy as np\n",
    "from sklearn.model_selection import train_test_split\n",
    "from keras import models\n",
    "from keras import layers\n",
    "from tensorflow.python.keras.utils.np_utils import to_categorical\n",
    "from keras.utils.vis_utils import plot_model"
   ],
   "metadata": {
    "collapsed": false,
    "pycharm": {
     "name": "#%%\n"
    }
   }
  },
  {
   "cell_type": "markdown",
   "source": [
    "Первая часть лабораторной"
   ],
   "metadata": {
    "collapsed": false,
    "pycharm": {
     "name": "#%% md\n"
    }
   }
  },
  {
   "cell_type": "code",
   "execution_count": 129,
   "outputs": [],
   "source": [
    "x = np.arange(10).reshape(-1,1) # reshape(-1,1) сделать из строки столбец\n",
    "y = np.array([0, 0, 0, 0, 1, 1, 1, 1, 1, 1]) # numpy массив из листа"
   ],
   "metadata": {
    "collapsed": false,
    "pycharm": {
     "name": "#%%\n"
    }
   }
  },
  {
   "cell_type": "code",
   "execution_count": 113,
   "outputs": [
    {
     "data": {
      "text/plain": "array([[1., 0.],\n       [1., 0.],\n       [1., 0.],\n       [1., 0.],\n       [0., 1.],\n       [0., 1.],\n       [0., 1.],\n       [0., 1.],\n       [0., 1.],\n       [0., 1.]], dtype=float32)"
     },
     "execution_count": 113,
     "metadata": {},
     "output_type": "execute_result"
    }
   ],
   "source": [
    "X_train, X_test, y_train, y_test = train_test_split(x,y,test_size=0.4, random_state= 40)  # разбивка данных на тренировочную и тестовую test_size это процент тестовой выборки из всех элементов, 0.4 - 40%, random_state - отвечает за перемешивание данных при разбивке на трейн и тест, а само число хз на что влияет\n",
    "t = to_categorical(y) # перевод переменной у в категориальные переменные два столбца это два класса, строки это принадлежность элемента к определенному классу (Преобразует вектор класса (целые числа) в двоичную матрицу класса.)\n",
    "t"
   ],
   "metadata": {
    "collapsed": false,
    "pycharm": {
     "name": "#%%\n"
    }
   }
  },
  {
   "cell_type": "code",
   "execution_count": 114,
   "outputs": [],
   "source": [
    "network = models.Sequential() # Создание модели нейронки Sequential() значит последовательная модель в конце будет видно\n",
    "network.add(layers.Dense(32, activation='relu', name = 'LayerInput')) # add() добавление слоев в модель, 20 Положительное целое число размерность выходного пространства то есть количество нейронов, activation - функция активации, name - необязательное для отображения названия слоя на графике ниже\n",
    "network.add(layers.Dense(2, activation='softmax', name= 'LayerTwo')) # в последнем слое количество выходных нейронов должно быть равно количеству классов которые у нас есть в данном случае 0 и 1 то есть 2 класса\n",
    "network.compile(optimizer='rmsprop',\n",
    "                loss='categorical_crossentropy',\n",
    "                metrics=['accuracy'])  # optimizer= строка (имя оптимизатора) или экземпляр оптимизатора https://www.tensorflow.org/api_docs/python/tf/keras/optimizers написано какие есть оптимизаторы, loss= функция потери на https://www.tensorflow.org/api_docs/python/tf/keras/losses можно посмотреть какие есть функции. metrics= список метрик (их может быть несколько поэтому [], которые будут оцениваться моделью во время обучения и тестирования на https://www.tensorflow.org/api_docs/python/tf/keras/metrics\n"
   ],
   "metadata": {
    "collapsed": false,
    "pycharm": {
     "name": "#%%\n"
    }
   }
  },
  {
   "cell_type": "code",
   "execution_count": 115,
   "outputs": [
    {
     "name": "stdout",
     "output_type": "stream",
     "text": [
      "Epoch 1/100\n",
      "2/2 [==============================] - 1s 0s/step - loss: 0.6647 - accuracy: 0.5000\n",
      "Epoch 2/100\n",
      "2/2 [==============================] - 0s 2ms/step - loss: 0.5872 - accuracy: 0.6000\n",
      "Epoch 3/100\n",
      "2/2 [==============================] - 0s 8ms/step - loss: 0.5520 - accuracy: 0.6000\n",
      "Epoch 4/100\n",
      "2/2 [==============================] - 0s 0s/step - loss: 0.5360 - accuracy: 0.6000\n",
      "Epoch 5/100\n",
      "2/2 [==============================] - 0s 0s/step - loss: 0.5203 - accuracy: 0.6000\n",
      "Epoch 6/100\n",
      "2/2 [==============================] - 0s 0s/step - loss: 0.5066 - accuracy: 0.6000\n",
      "Epoch 7/100\n",
      "2/2 [==============================] - 0s 0s/step - loss: 0.4995 - accuracy: 0.6000\n",
      "Epoch 8/100\n",
      "2/2 [==============================] - 0s 10ms/step - loss: 0.4951 - accuracy: 0.7000\n",
      "Epoch 9/100\n",
      "2/2 [==============================] - 0s 0s/step - loss: 0.4855 - accuracy: 0.7000\n",
      "Epoch 10/100\n",
      "2/2 [==============================] - 0s 0s/step - loss: 0.4890 - accuracy: 0.7000\n",
      "Epoch 11/100\n",
      "2/2 [==============================] - 0s 0s/step - loss: 0.4780 - accuracy: 0.7000\n",
      "Epoch 12/100\n",
      "2/2 [==============================] - 0s 10ms/step - loss: 0.4752 - accuracy: 0.7000\n",
      "Epoch 13/100\n",
      "2/2 [==============================] - 0s 10ms/step - loss: 0.4718 - accuracy: 0.7000\n",
      "Epoch 14/100\n",
      "2/2 [==============================] - 0s 0s/step - loss: 0.4690 - accuracy: 0.7000\n",
      "Epoch 15/100\n",
      "2/2 [==============================] - 0s 0s/step - loss: 0.4758 - accuracy: 0.7000\n",
      "Epoch 16/100\n",
      "2/2 [==============================] - 0s 0s/step - loss: 0.4641 - accuracy: 0.7000\n",
      "Epoch 17/100\n",
      "2/2 [==============================] - 0s 12ms/step - loss: 0.4651 - accuracy: 0.7000\n",
      "Epoch 18/100\n",
      "2/2 [==============================] - 0s 8ms/step - loss: 0.4605 - accuracy: 0.7000\n",
      "Epoch 19/100\n",
      "2/2 [==============================] - 0s 0s/step - loss: 0.4584 - accuracy: 0.7000\n",
      "Epoch 20/100\n",
      "2/2 [==============================] - 0s 0s/step - loss: 0.4595 - accuracy: 0.7000\n",
      "Epoch 21/100\n",
      "2/2 [==============================] - 0s 0s/step - loss: 0.4574 - accuracy: 0.7000\n",
      "Epoch 22/100\n",
      "2/2 [==============================] - 0s 0s/step - loss: 0.4529 - accuracy: 0.7000\n",
      "Epoch 23/100\n",
      "2/2 [==============================] - 0s 0s/step - loss: 0.4566 - accuracy: 0.7000\n",
      "Epoch 24/100\n",
      "2/2 [==============================] - 0s 10ms/step - loss: 0.4506 - accuracy: 0.7000\n",
      "Epoch 25/100\n",
      "2/2 [==============================] - 0s 0s/step - loss: 0.4474 - accuracy: 0.7000\n",
      "Epoch 26/100\n",
      "2/2 [==============================] - 0s 0s/step - loss: 0.4513 - accuracy: 0.7000\n",
      "Epoch 27/100\n",
      "2/2 [==============================] - 0s 0s/step - loss: 0.4442 - accuracy: 0.7000\n",
      "Epoch 28/100\n",
      "2/2 [==============================] - 0s 0s/step - loss: 0.4426 - accuracy: 0.7000\n",
      "Epoch 29/100\n",
      "2/2 [==============================] - 0s 0s/step - loss: 0.4407 - accuracy: 0.7000\n",
      "Epoch 30/100\n",
      "2/2 [==============================] - 0s 2ms/step - loss: 0.4388 - accuracy: 0.7000\n",
      "Epoch 31/100\n",
      "2/2 [==============================] - 0s 8ms/step - loss: 0.4394 - accuracy: 0.7000\n",
      "Epoch 32/100\n",
      "2/2 [==============================] - 0s 0s/step - loss: 0.4351 - accuracy: 0.7000\n",
      "Epoch 33/100\n",
      "2/2 [==============================] - 0s 0s/step - loss: 0.4333 - accuracy: 0.7000\n",
      "Epoch 34/100\n",
      "2/2 [==============================] - 0s 0s/step - loss: 0.4412 - accuracy: 0.7000\n",
      "Epoch 35/100\n",
      "2/2 [==============================] - 0s 10ms/step - loss: 0.4298 - accuracy: 0.7000\n",
      "Epoch 36/100\n",
      "2/2 [==============================] - 0s 10ms/step - loss: 0.4338 - accuracy: 0.7000\n",
      "Epoch 37/100\n",
      "2/2 [==============================] - 0s 0s/step - loss: 0.4301 - accuracy: 0.7000\n",
      "Epoch 38/100\n",
      "2/2 [==============================] - 0s 5ms/step - loss: 0.4289 - accuracy: 0.7000\n",
      "Epoch 39/100\n",
      "2/2 [==============================] - 0s 0s/step - loss: 0.4234 - accuracy: 0.7000\n",
      "Epoch 40/100\n",
      "2/2 [==============================] - 0s 0s/step - loss: 0.4220 - accuracy: 0.7000\n",
      "Epoch 41/100\n",
      "2/2 [==============================] - 0s 0s/step - loss: 0.4202 - accuracy: 0.7000\n",
      "Epoch 42/100\n",
      "2/2 [==============================] - 0s 10ms/step - loss: 0.4196 - accuracy: 0.7000\n",
      "Epoch 43/100\n",
      "2/2 [==============================] - 0s 8ms/step - loss: 0.4217 - accuracy: 0.8000\n",
      "Epoch 44/100\n",
      "2/2 [==============================] - 0s 0s/step - loss: 0.4162 - accuracy: 0.7000\n",
      "Epoch 45/100\n",
      "2/2 [==============================] - 0s 0s/step - loss: 0.4147 - accuracy: 0.7000\n",
      "Epoch 46/100\n",
      "2/2 [==============================] - 0s 0s/step - loss: 0.4130 - accuracy: 0.8000\n",
      "Epoch 47/100\n",
      "2/2 [==============================] - 0s 0s/step - loss: 0.4103 - accuracy: 0.8000\n",
      "Epoch 48/100\n",
      "2/2 [==============================] - 0s 0s/step - loss: 0.4081 - accuracy: 0.8000\n",
      "Epoch 49/100\n",
      "2/2 [==============================] - 0s 0s/step - loss: 0.4119 - accuracy: 0.8000\n",
      "Epoch 50/100\n",
      "2/2 [==============================] - 0s 10ms/step - loss: 0.4067 - accuracy: 0.8000\n",
      "Epoch 51/100\n",
      "2/2 [==============================] - 0s 0s/step - loss: 0.4033 - accuracy: 0.8000\n",
      "Epoch 52/100\n",
      "2/2 [==============================] - 0s 0s/step - loss: 0.4016 - accuracy: 0.8000\n",
      "Epoch 53/100\n",
      "2/2 [==============================] - 0s 0s/step - loss: 0.4048 - accuracy: 0.8000\n",
      "Epoch 54/100\n",
      "2/2 [==============================] - 0s 0s/step - loss: 0.3980 - accuracy: 0.8000\n",
      "Epoch 55/100\n",
      "2/2 [==============================] - 0s 3ms/step - loss: 0.4076 - accuracy: 0.8000\n",
      "Epoch 56/100\n",
      "2/2 [==============================] - 0s 7ms/step - loss: 0.3950 - accuracy: 0.8000\n",
      "Epoch 57/100\n",
      "2/2 [==============================] - 0s 10ms/step - loss: 0.3937 - accuracy: 0.8000\n",
      "Epoch 58/100\n",
      "2/2 [==============================] - 0s 0s/step - loss: 0.3925 - accuracy: 0.8000\n",
      "Epoch 59/100\n",
      "2/2 [==============================] - 0s 0s/step - loss: 0.3987 - accuracy: 0.8000\n",
      "Epoch 60/100\n",
      "2/2 [==============================] - 0s 0s/step - loss: 0.3892 - accuracy: 0.8000\n",
      "Epoch 61/100\n",
      "2/2 [==============================] - 0s 10ms/step - loss: 0.3875 - accuracy: 0.8000\n",
      "Epoch 62/100\n",
      "2/2 [==============================] - 0s 0s/step - loss: 0.3920 - accuracy: 0.8000\n",
      "Epoch 63/100\n",
      "2/2 [==============================] - 0s 0s/step - loss: 0.3874 - accuracy: 0.8000\n",
      "Epoch 64/100\n",
      "2/2 [==============================] - 0s 0s/step - loss: 0.3829 - accuracy: 0.8000\n",
      "Epoch 65/100\n",
      "2/2 [==============================] - 0s 0s/step - loss: 0.3852 - accuracy: 0.8000\n",
      "Epoch 66/100\n",
      "2/2 [==============================] - 0s 0s/step - loss: 0.3836 - accuracy: 0.8000\n",
      "Epoch 67/100\n",
      "2/2 [==============================] - 0s 0s/step - loss: 0.3836 - accuracy: 0.8000\n",
      "Epoch 68/100\n",
      "2/2 [==============================] - 0s 10ms/step - loss: 0.3772 - accuracy: 0.8000\n",
      "Epoch 69/100\n",
      "2/2 [==============================] - 0s 0s/step - loss: 0.3790 - accuracy: 0.8000\n",
      "Epoch 70/100\n",
      "2/2 [==============================] - 0s 0s/step - loss: 0.3824 - accuracy: 0.8000\n",
      "Epoch 71/100\n",
      "2/2 [==============================] - 0s 0s/step - loss: 0.3748 - accuracy: 0.8000\n",
      "Epoch 72/100\n",
      "2/2 [==============================] - 0s 0s/step - loss: 0.3743 - accuracy: 0.8000\n",
      "Epoch 73/100\n",
      "2/2 [==============================] - 0s 10ms/step - loss: 0.3763 - accuracy: 0.8000\n",
      "Epoch 74/100\n",
      "2/2 [==============================] - 0s 0s/step - loss: 0.3707 - accuracy: 0.8000\n",
      "Epoch 75/100\n",
      "2/2 [==============================] - 0s 0s/step - loss: 0.3686 - accuracy: 0.8000\n",
      "Epoch 76/100\n",
      "2/2 [==============================] - 0s 10ms/step - loss: 0.3666 - accuracy: 0.8000\n",
      "Epoch 77/100\n",
      "2/2 [==============================] - 0s 0s/step - loss: 0.3665 - accuracy: 0.8000\n",
      "Epoch 78/100\n",
      "2/2 [==============================] - 0s 0s/step - loss: 0.3635 - accuracy: 0.8000\n",
      "Epoch 79/100\n",
      "2/2 [==============================] - 0s 0s/step - loss: 0.3632 - accuracy: 0.8000\n",
      "Epoch 80/100\n",
      "2/2 [==============================] - 0s 0s/step - loss: 0.3603 - accuracy: 0.8000\n",
      "Epoch 81/100\n",
      "2/2 [==============================] - 0s 10ms/step - loss: 0.3643 - accuracy: 0.8000\n",
      "Epoch 82/100\n",
      "2/2 [==============================] - 0s 0s/step - loss: 0.3612 - accuracy: 0.8000\n",
      "Epoch 83/100\n",
      "2/2 [==============================] - 0s 0s/step - loss: 0.3556 - accuracy: 0.8000\n",
      "Epoch 84/100\n",
      "2/2 [==============================] - 0s 0s/step - loss: 0.3542 - accuracy: 0.8000\n",
      "Epoch 85/100\n",
      "2/2 [==============================] - 0s 0s/step - loss: 0.3588 - accuracy: 0.8000\n",
      "Epoch 86/100\n",
      "2/2 [==============================] - 0s 0s/step - loss: 0.3520 - accuracy: 0.8000\n",
      "Epoch 87/100\n",
      "2/2 [==============================] - 0s 10ms/step - loss: 0.3498 - accuracy: 0.8000\n",
      "Epoch 88/100\n",
      "2/2 [==============================] - 0s 0s/step - loss: 0.3491 - accuracy: 0.8000\n",
      "Epoch 89/100\n",
      "2/2 [==============================] - 0s 0s/step - loss: 0.3565 - accuracy: 0.8000\n",
      "Epoch 90/100\n",
      "2/2 [==============================] - 0s 0s/step - loss: 0.3454 - accuracy: 0.8000\n",
      "Epoch 91/100\n",
      "2/2 [==============================] - 0s 10ms/step - loss: 0.3436 - accuracy: 0.8000\n",
      "Epoch 92/100\n",
      "2/2 [==============================] - 0s 10ms/step - loss: 0.3422 - accuracy: 0.8000\n",
      "Epoch 93/100\n",
      "2/2 [==============================] - 0s 7ms/step - loss: 0.3421 - accuracy: 0.8000\n",
      "Epoch 94/100\n",
      "2/2 [==============================] - 0s 0s/step - loss: 0.3407 - accuracy: 0.8000\n",
      "Epoch 95/100\n",
      "2/2 [==============================] - 0s 0s/step - loss: 0.3380 - accuracy: 0.8000\n",
      "Epoch 96/100\n",
      "2/2 [==============================] - 0s 0s/step - loss: 0.3362 - accuracy: 0.8000\n",
      "Epoch 97/100\n",
      "2/2 [==============================] - 0s 0s/step - loss: 0.3399 - accuracy: 0.8000\n",
      "Epoch 98/100\n",
      "2/2 [==============================] - 0s 10ms/step - loss: 0.3345 - accuracy: 0.8000\n",
      "Epoch 99/100\n",
      "2/2 [==============================] - 0s 0s/step - loss: 0.3312 - accuracy: 0.8000\n",
      "Epoch 100/100\n",
      "2/2 [==============================] - 0s 0s/step - loss: 0.3295 - accuracy: 0.9000\n"
     ]
    }
   ],
   "source": [
    "network_history = network.fit(x, t, epochs=100, batch_size=5, verbose=1) # Обучение модели х это массив на которых нужно обучить модель, t созданный массив категориальных переменных epochs - данные х и t сто раз прошли через нейронную сеть в прямом и обратном направлении, batch_size - это количество выборок, которые передаются в сеть одновременно, то есть количесво элементов тестовой выборки. verbose= количество отображаемой информации при обучении 1 - много информации 3 - только эпохи,\n",
    "# network_history переменная нужна чисто для отрисовки графика истории обучения, роста точности и снижения ошибки"
   ],
   "metadata": {
    "collapsed": false,
    "pycharm": {
     "name": "#%%\n"
    }
   }
  },
  {
   "cell_type": "code",
   "execution_count": 116,
   "outputs": [
    {
     "name": "stdout",
     "output_type": "stream",
     "text": [
      "1/1 [==============================] - 0s 120ms/step\n",
      "[[0.6502558  0.3497442 ]\n",
      " [0.63102394 0.36897603]\n",
      " [0.50248533 0.4975147 ]\n",
      " [0.36975345 0.6302465 ]\n",
      " [0.25417078 0.7458293 ]\n",
      " [0.16524541 0.83475465]\n",
      " [0.10312988 0.8968701 ]\n",
      " [0.06261216 0.9373879 ]\n",
      " [0.03735012 0.9626499 ]\n",
      " [0.02204086 0.97795916]]\n"
     ]
    }
   ],
   "source": [
    "z = network.predict(x, verbose= 1) # Генерирует предсказания для входного массива х, verbose аналогично fit(), возвращает Numpy массив(ы) предсказаний вероятности, где каждый столбец это класс\n",
    "print(z)"
   ],
   "metadata": {
    "collapsed": false,
    "pycharm": {
     "name": "#%%\n"
    }
   }
  },
  {
   "cell_type": "code",
   "execution_count": 117,
   "outputs": [
    {
     "data": {
      "text/plain": "<matplotlib.collections.PathCollection at 0x2d505045400>"
     },
     "execution_count": 117,
     "metadata": {},
     "output_type": "execute_result"
    },
    {
     "data": {
      "text/plain": "<Figure size 432x288 with 1 Axes>",
      "image/png": "[encoded data removed]"
     },
     "metadata": {},
     "output_type": "display_data"
    }
   ],
   "source": [
    "plt.scatter(x, y, color='green', s=100, marker=\"o\") # график исходных данных\n",
    "plt.scatter(x, z[:, 0], color='red', s=105, marker=\"s\")  # график предсказанных данных для класса 0\n",
    "plt.scatter(x, z[:, 1], color='blue', s=105, marker=\"s\") # график предсказанных данных для класса 1"
   ],
   "metadata": {
    "collapsed": false,
    "pycharm": {
     "name": "#%%\n"
    }
   }
  },
  {
   "cell_type": "code",
   "execution_count": 118,
   "outputs": [
    {
     "name": "stdout",
     "output_type": "stream",
     "text": [
      "Model: \"sequential_15\"\n",
      "_________________________________________________________________\n",
      " Layer (type)                Output Shape              Param #   \n",
      "=================================================================\n",
      " LayerInput (Dense)          (None, 32)                64        \n",
      "                                                                 \n",
      " LayerTwo (Dense)            (None, 2)                 66        \n",
      "                                                                 \n",
      "=================================================================\n",
      "Total params: 130\n",
      "Trainable params: 130\n",
      "Non-trainable params: 0\n",
      "_________________________________________________________________\n",
      "None\n"
     ]
    },
    {
     "data": {
      "image/png": "[encoded data removed]",
      "text/plain": "<IPython.core.display.Image object>"
     },
     "execution_count": 118,
     "metadata": {},
     "output_type": "execute_result"
    }
   ],
   "source": [
    "print(network.summary()) # Для плотных слоев: Param # вычисляется output_size * (input_size + 1) == number_parameters - 32*(1+1) + 2*(32+1) = 130\n",
    "plot_model(network, show_shapes=True, show_layer_names=True, rankdir=\"LR\", dpi=200, show_layer_activations=True) # network модель нейронной сети, show_shapes - отображать ли информацию о форме это ([None,1]), show_layer_names названия слоев которые были введены при создании модели нейронки, rankdir=\"LR\" - рисунок горизонтально, 'TB' - вертикально, dpi разрешение show_layer_activations отображение активаций слоев (только для слоев, у которых есть activation свойство).\n",
    "\n",
    "# может вывести вот такую ошибку - You must install pydot (`pip install pydot`) and install graphviz (see instructions at https://graphviz.gitlab.io/download/) for plot_model/model_to_dot to work.\n",
    "# помогла вот эта установка в консоли анаконды -  conda install pydot"
   ],
   "metadata": {
    "collapsed": false,
    "pycharm": {
     "name": "#%%\n"
    }
   }
  },
  {
   "cell_type": "code",
   "execution_count": 119,
   "outputs": [
    {
     "name": "stdout",
     "output_type": "stream",
     "text": [
      "[array([[ 0.28975675,  0.3257735 , -0.23509556, -0.24153027,  0.25405186,\n",
      "         0.3072025 , -0.1456275 , -0.24918246, -0.07506979, -0.19245271,\n",
      "         0.13460694, -0.00996757,  0.053817  , -0.22577773,  0.31586334,\n",
      "         0.32455826,  0.30609632,  0.17007542,  0.0622963 , -0.1614148 ,\n",
      "         0.25962624,  0.4344183 ,  0.29248273, -0.12273544,  0.2786328 ,\n",
      "        -0.15649903, -0.34113362, -0.17301688,  0.36631268, -0.3550047 ,\n",
      "        -0.01230722, -0.12902659]], dtype=float32), array([ 0.13271065, -0.12180381,  0.        ,  0.        , -0.11961935,\n",
      "       -0.11957622,  0.        ,  0.        ,  0.        ,  0.        ,\n",
      "       -0.11989468,  0.        ,  0.13341767,  0.        ,  0.1326919 ,\n",
      "       -0.13300797, -0.11978446,  0.1329985 , -0.09582283,  0.        ,\n",
      "       -0.11963739, -0.12498883,  0.1327195 ,  0.        , -0.12347247,\n",
      "        0.        ,  0.        ,  0.        , -0.12402058,  0.        ,\n",
      "        0.14973675,  0.        ], dtype=float32)]\n",
      "\n",
      " [array([[-0.00366479, -0.25361758],\n",
      "       [ 0.22205848,  0.38098824],\n",
      "       [ 0.273591  ,  0.39896896],\n",
      "       [-0.2704606 , -0.02503043],\n",
      "       [-0.30679488,  0.33511555],\n",
      "       [-0.309593  ,  0.32535633],\n",
      "       [-0.30275056,  0.1163303 ],\n",
      "       [-0.40724996, -0.371157  ],\n",
      "       [ 0.39750853,  0.2847205 ],\n",
      "       [ 0.08762953, -0.0333502 ],\n",
      "       [-0.37491465,  0.27844894],\n",
      "       [ 0.16817757,  0.23127595],\n",
      "       [ 0.38757643, -0.37682217],\n",
      "       [-0.01862767,  0.0708864 ],\n",
      "       [ 0.27584732, -0.14002642],\n",
      "       [-0.01445565,  0.05262003],\n",
      "       [-0.08473143,  0.39468914],\n",
      "       [ 0.30124062, -0.11050212],\n",
      "       [-0.22851628,  0.2649716 ],\n",
      "       [ 0.31814334,  0.0633654 ],\n",
      "       [-0.18924898,  0.43011478],\n",
      "       [-0.29238355, -0.20225097],\n",
      "       [ 0.18870391, -0.19115616],\n",
      "       [ 0.35117844,  0.10116848],\n",
      "       [-0.15408945, -0.03118545],\n",
      "       [-0.27401996, -0.3994282 ],\n",
      "       [ 0.3392636 ,  0.26045337],\n",
      "       [-0.21233067,  0.28950778],\n",
      "       [-0.29430768, -0.2005304 ],\n",
      "       [-0.16041139,  0.21225467],\n",
      "       [ 0.3403991 ,  0.04848838],\n",
      "       [-0.16578957,  0.40532795]], dtype=float32), array([ 0.14046963, -0.14046963], dtype=float32)]\n"
     ]
    }
   ],
   "source": [
    "print(network.layers[0].get_weights()) # вывод весов первого [0] входного слоя сети\n",
    "print('\\n',network.layers[1].get_weights()) # сумма весов двух слоев как раз и равна количеству параметров (Param#) сети выше"
   ],
   "metadata": {
    "collapsed": false,
    "pycharm": {
     "name": "#%%\n"
    }
   }
  },
  {
   "cell_type": "markdown",
   "source": [
    "Вторая часть лабораторной"
   ],
   "metadata": {
    "collapsed": false,
    "pycharm": {
     "name": "#%% md\n"
    }
   }
  },
  {
   "cell_type": "code",
   "execution_count": 120,
   "outputs": [],
   "source": [
    "from sklearn.datasets import load_iris"
   ],
   "metadata": {
    "collapsed": false,
    "pycharm": {
     "name": "#%%\n"
    }
   }
  },
  {
   "cell_type": "code",
   "execution_count": 121,
   "outputs": [
    {
     "data": {
      "text/plain": "   sepal length (cm)  sepal width (cm)  petal length (cm)  petal width (cm)  \\\n0                5.1               3.5                1.4               0.2   \n1                4.9               3.0                1.4               0.2   \n2                4.7               3.2                1.3               0.2   \n3                4.6               3.1                1.5               0.2   \n4                5.0               3.6                1.4               0.2   \n\n   target  \n0       0  \n1       0  \n2       0  \n3       0  \n4       0  ",
      "text/html": "<div>\n<style scoped>\n    .dataframe tbody tr th:only-of-type {\n        vertical-align: middle;\n    }\n\n    .dataframe tbody tr th {\n        vertical-align: top;\n    }\n\n    .dataframe thead th {\n        text-align: right;\n    }\n</style>\n<table border=\"1\" class=\"dataframe\">\n  <thead>\n    <tr style=\"text-align: right;\">\n      <th></th>\n      <th>sepal length (cm)</th>\n      <th>sepal width (cm)</th>\n      <th>petal length (cm)</th>\n      <th>petal width (cm)</th>\n      <th>target</th>\n    </tr>\n  </thead>\n  <tbody>\n    <tr>\n      <th>0</th>\n      <td>5.1</td>\n      <td>3.5</td>\n      <td>1.4</td>\n      <td>0.2</td>\n      <td>0</td>\n    </tr>\n    <tr>\n      <th>1</th>\n      <td>4.9</td>\n      <td>3.0</td>\n      <td>1.4</td>\n      <td>0.2</td>\n      <td>0</td>\n    </tr>\n    <tr>\n      <th>2</th>\n      <td>4.7</td>\n      <td>3.2</td>\n      <td>1.3</td>\n      <td>0.2</td>\n      <td>0</td>\n    </tr>\n    <tr>\n      <th>3</th>\n      <td>4.6</td>\n      <td>3.1</td>\n      <td>1.5</td>\n      <td>0.2</td>\n      <td>0</td>\n    </tr>\n    <tr>\n      <th>4</th>\n      <td>5.0</td>\n      <td>3.6</td>\n      <td>1.4</td>\n      <td>0.2</td>\n      <td>0</td>\n    </tr>\n  </tbody>\n</table>\n</div>"
     },
     "execution_count": 121,
     "metadata": {},
     "output_type": "execute_result"
    }
   ],
   "source": [
    "iris = load_iris(as_frame=True) # as_frame= значит что данные возвратятся в пандас с названиями столбцов, без этого вернется словарь с ключами таргет и дата.\n",
    "iris.frame.head() # показать первые 5 строк датафрейма"
   ],
   "metadata": {
    "collapsed": false,
    "pycharm": {
     "name": "#%%\n"
    }
   }
  },
  {
   "cell_type": "code",
   "execution_count": 122,
   "outputs": [
    {
     "data": {
      "text/plain": "     sepal length (cm)  sepal width (cm)  petal length (cm)  petal width (cm)\n4                  5.0               3.6                1.4               0.2\n143                6.8               3.2                5.9               2.3\n61                 5.9               3.0                4.2               1.5\n10                 5.4               3.7                1.5               0.2\n112                6.8               3.0                5.5               2.1\n..                 ...               ...                ...               ...\n71                 6.1               2.8                4.0               1.3\n12                 4.8               3.0                1.4               0.1\n50                 7.0               3.2                4.7               1.4\n7                  5.0               3.4                1.5               0.2\n70                 5.9               3.2                4.8               1.8\n\n[90 rows x 4 columns]",
      "text/html": "<div>\n<style scoped>\n    .dataframe tbody tr th:only-of-type {\n        vertical-align: middle;\n    }\n\n    .dataframe tbody tr th {\n        vertical-align: top;\n    }\n\n    .dataframe thead th {\n        text-align: right;\n    }\n</style>\n<table border=\"1\" class=\"dataframe\">\n  <thead>\n    <tr style=\"text-align: right;\">\n      <th></th>\n      <th>sepal length (cm)</th>\n      <th>sepal width (cm)</th>\n      <th>petal length (cm)</th>\n      <th>petal width (cm)</th>\n    </tr>\n  </thead>\n  <tbody>\n    <tr>\n      <th>4</th>\n      <td>5.0</td>\n      <td>3.6</td>\n      <td>1.4</td>\n      <td>0.2</td>\n    </tr>\n    <tr>\n      <th>143</th>\n      <td>6.8</td>\n      <td>3.2</td>\n      <td>5.9</td>\n      <td>2.3</td>\n    </tr>\n    <tr>\n      <th>61</th>\n      <td>5.9</td>\n      <td>3.0</td>\n      <td>4.2</td>\n      <td>1.5</td>\n    </tr>\n    <tr>\n      <th>10</th>\n      <td>5.4</td>\n      <td>3.7</td>\n      <td>1.5</td>\n      <td>0.2</td>\n    </tr>\n    <tr>\n      <th>112</th>\n      <td>6.8</td>\n      <td>3.0</td>\n      <td>5.5</td>\n      <td>2.1</td>\n    </tr>\n    <tr>\n      <th>...</th>\n      <td>...</td>\n      <td>...</td>\n      <td>...</td>\n      <td>...</td>\n    </tr>\n    <tr>\n      <th>71</th>\n      <td>6.1</td>\n      <td>2.8</td>\n      <td>4.0</td>\n      <td>1.3</td>\n    </tr>\n    <tr>\n      <th>12</th>\n      <td>4.8</td>\n      <td>3.0</td>\n      <td>1.4</td>\n      <td>0.1</td>\n    </tr>\n    <tr>\n      <th>50</th>\n      <td>7.0</td>\n      <td>3.2</td>\n      <td>4.7</td>\n      <td>1.4</td>\n    </tr>\n    <tr>\n      <th>7</th>\n      <td>5.0</td>\n      <td>3.4</td>\n      <td>1.5</td>\n      <td>0.2</td>\n    </tr>\n    <tr>\n      <th>70</th>\n      <td>5.9</td>\n      <td>3.2</td>\n      <td>4.8</td>\n      <td>1.8</td>\n    </tr>\n  </tbody>\n</table>\n<p>90 rows × 4 columns</p>\n</div>"
     },
     "execution_count": 122,
     "metadata": {},
     "output_type": "execute_result"
    }
   ],
   "source": [
    "X = iris.data # .data это срез по первым 4 столбцам данных длины и ширины\n",
    "y = iris.target # .target это срез по столбцу target который является идентификатором класса\n",
    "X_train, X_test, y_train, y_test = train_test_split(X,y,test_size=0.4, random_state= 40)\n",
    "X_train"
   ],
   "metadata": {
    "collapsed": false,
    "pycharm": {
     "name": "#%%\n"
    }
   }
  },
  {
   "cell_type": "code",
   "execution_count": 123,
   "outputs": [],
   "source": [
    "train_labels = to_categorical(y_train)\n",
    "test_labels = to_categorical(y_test)"
   ],
   "metadata": {
    "collapsed": false,
    "pycharm": {
     "name": "#%%\n"
    }
   }
  },
  {
   "cell_type": "code",
   "execution_count": 124,
   "outputs": [],
   "source": [
    "from keras import models\n",
    "from keras import layers\n",
    "model = models.Sequential()\n",
    "model.add(layers.Dense(32, activation='relu', input_shape=(4,)))\n",
    "model.add(layers.Dense(64, activation='relu'))\n",
    "model.add(layers.Dense(3, activation='softmax'))\n",
    "model.compile(optimizer='rmsprop', loss='categorical_crossentropy', metrics=['accuracy'])"
   ],
   "metadata": {
    "collapsed": false,
    "pycharm": {
     "name": "#%%\n"
    }
   }
  },
  {
   "cell_type": "code",
   "execution_count": 125,
   "outputs": [
    {
     "name": "stdout",
     "output_type": "stream",
     "text": [
      "Epoch 1/30\n",
      "30/30 [==============================] - 1s 2ms/step - loss: 0.9387 - accuracy: 0.5889 \n",
      "Epoch 2/30\n",
      "30/30 [==============================] - 0s 1ms/step - loss: 0.7059 - accuracy: 0.7000\n",
      "Epoch 3/30\n",
      "30/30 [==============================] - 0s 1ms/step - loss: 0.5685 - accuracy: 0.7889\n",
      "Epoch 4/30\n",
      "30/30 [==============================] - 0s 1ms/step - loss: 0.4807 - accuracy: 0.8333\n",
      "Epoch 5/30\n",
      "30/30 [==============================] - 0s 1ms/step - loss: 0.4331 - accuracy: 0.8111\n",
      "Epoch 6/30\n",
      "30/30 [==============================] - 0s 2ms/step - loss: 0.3787 - accuracy: 0.8444\n",
      "Epoch 7/30\n",
      "30/30 [==============================] - 0s 1ms/step - loss: 0.3577 - accuracy: 0.9333\n",
      "Epoch 8/30\n",
      "30/30 [==============================] - 0s 1ms/step - loss: 0.3254 - accuracy: 0.9111\n",
      "Epoch 9/30\n",
      "30/30 [==============================] - 0s 1ms/step - loss: 0.3024 - accuracy: 0.9111\n",
      "Epoch 10/30\n",
      "30/30 [==============================] - 0s 2ms/step - loss: 0.2658 - accuracy: 0.9111\n",
      "Epoch 11/30\n",
      "30/30 [==============================] - 0s 1ms/step - loss: 0.2703 - accuracy: 0.9222\n",
      "Epoch 12/30\n",
      "30/30 [==============================] - 0s 1ms/step - loss: 0.2260 - accuracy: 0.9556\n",
      "Epoch 13/30\n",
      "30/30 [==============================] - 0s 1ms/step - loss: 0.2297 - accuracy: 0.9333\n",
      "Epoch 14/30\n",
      "30/30 [==============================] - 0s 1ms/step - loss: 0.2027 - accuracy: 0.9444\n",
      "Epoch 15/30\n",
      "30/30 [==============================] - 0s 2ms/step - loss: 0.1878 - accuracy: 0.9667\n",
      "Epoch 16/30\n",
      "30/30 [==============================] - 0s 1ms/step - loss: 0.1882 - accuracy: 0.9556\n",
      "Epoch 17/30\n",
      "30/30 [==============================] - 0s 2ms/step - loss: 0.1749 - accuracy: 0.9444\n",
      "Epoch 18/30\n",
      "30/30 [==============================] - 0s 2ms/step - loss: 0.1566 - accuracy: 0.9667\n",
      "Epoch 19/30\n",
      "30/30 [==============================] - 0s 1ms/step - loss: 0.1549 - accuracy: 0.9444\n",
      "Epoch 20/30\n",
      "30/30 [==============================] - 0s 1ms/step - loss: 0.1572 - accuracy: 0.9444\n",
      "Epoch 21/30\n",
      "30/30 [==============================] - 0s 1ms/step - loss: 0.1310 - accuracy: 0.9778\n",
      "Epoch 22/30\n",
      "30/30 [==============================] - 0s 1ms/step - loss: 0.1514 - accuracy: 0.9556\n",
      "Epoch 23/30\n",
      "30/30 [==============================] - 0s 1ms/step - loss: 0.1463 - accuracy: 0.9333\n",
      "Epoch 24/30\n",
      "30/30 [==============================] - 0s 2ms/step - loss: 0.1431 - accuracy: 0.9222\n",
      "Epoch 25/30\n",
      "30/30 [==============================] - 0s 1ms/step - loss: 0.1332 - accuracy: 0.9556\n",
      "Epoch 26/30\n",
      "30/30 [==============================] - 0s 2ms/step - loss: 0.1282 - accuracy: 0.9556\n",
      "Epoch 27/30\n",
      "30/30 [==============================] - 0s 1ms/step - loss: 0.1329 - accuracy: 0.9556\n",
      "Epoch 28/30\n",
      "30/30 [==============================] - 0s 2ms/step - loss: 0.1230 - accuracy: 0.9667\n",
      "Epoch 29/30\n",
      "30/30 [==============================] - 0s 1ms/step - loss: 0.1197 - accuracy: 0.9444\n",
      "Epoch 30/30\n",
      "30/30 [==============================] - 0s 1ms/step - loss: 0.1236 - accuracy: 0.9667\n"
     ]
    }
   ],
   "source": [
    "model_history = model.fit(X_train, train_labels, epochs=30, batch_size=3, verbose=1)"
   ],
   "metadata": {
    "collapsed": false,
    "pycharm": {
     "name": "#%%\n"
    }
   }
  },
  {
   "cell_type": "code",
   "execution_count": 132,
   "outputs": [
    {
     "name": "stdout",
     "output_type": "stream",
     "text": [
      "2/2 [==============================] - 0s 0s/step - loss: 0.0966 - accuracy: 0.9667\n",
      "Тестовая точность:  0.9666666388511658 \n",
      "Тестовая потеря:  0.09664753824472427\n"
     ]
    }
   ],
   "source": [
    "test_loss, test_acc = model.evaluate(X_test, test_labels) # Возвращает значения потерь и метрик для модели в тестовом режиме. прнимает тестовую выборку параметров (X_test) и двоичную (категориальную) матрицу класса.\n",
    "print('Тестовая точность: ', test_acc, '\\nТестовая потеря: ', test_loss)"
   ],
   "metadata": {
    "collapsed": false,
    "pycharm": {
     "name": "#%%\n"
    }
   }
  },
  {
   "cell_type": "code",
   "execution_count": 133,
   "outputs": [
    {
     "data": {
      "text/plain": "dict_keys(['loss', 'accuracy'])"
     },
     "execution_count": 133,
     "metadata": {},
     "output_type": "execute_result"
    }
   ],
   "source": [
    "network_history.history.keys() # обратный вызов истории обучения, которая регистрируется при обучении модели (model.fit), .keys() возвращает список параметров которые регистрируются при обучении модели"
   ],
   "metadata": {
    "collapsed": false,
    "pycharm": {
     "name": "#%%\n"
    }
   }
  },
  {
   "cell_type": "code",
   "execution_count": 134,
   "outputs": [
    {
     "data": {
      "text/plain": "Text(0, 0.5, 'Loss')"
     },
     "execution_count": 134,
     "metadata": {},
     "output_type": "execute_result"
    },
    {
     "data": {
      "text/plain": "<Figure size 432x288 with 2 Axes>",
      "image/png": "[encoded data removed]"
     },
     "metadata": {},
     "output_type": "display_data"
    }
   ],
   "source": [
    "plt.figure()\n",
    "plt.subplot(211) # для построения нескольких графиков в одном окне, 2 - количество графиков по вертикали, 1 - количество графиков по горизонтали, 1 - ячейка положения графика на сетке фигуры\n",
    "plt.title('Neural network test', fontsize=17)\n",
    "plt.plot(network_history.history['accuracy']) # обратный вызов истории обучения для параметра точности ['accuracy']\n",
    "plt.xlabel('Epoch', fontsize=12, color='blue')\n",
    "plt.ylabel('Accuracy', fontsize=12, color='blue')\n",
    "plt.subplot(212)\n",
    "plt.plot(network_history.history['loss'])\n",
    "plt.ylabel('Loss', fontsize=12, color='blue')"
   ],
   "metadata": {
    "collapsed": false,
    "pycharm": {
     "name": "#%%\n"
    }
   }
  },
  {
   "cell_type": "code",
   "execution_count": null,
   "outputs": [],
   "source": [],
   "metadata": {
    "collapsed": false,
    "pycharm": {
     "name": "#%%\n"
    }
   }
  }
 ],
 "metadata": {
  "kernelspec": {
   "display_name": "Python 3",
   "language": "python",
   "name": "python3"
  },
  "language_info": {
   "codemirror_mode": {
    "name": "ipython",
    "version": 2
   },
   "file_extension": ".py",
   "mimetype": "text/x-python",
   "name": "python",
   "nbconvert_exporter": "python",
   "pygments_lexer": "ipython2",
   "version": "2.7.6"
  }
 },
 "nbformat": 4,
 "nbformat_minor": 0
}
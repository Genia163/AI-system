{
 "cells": [
  {
   "cell_type": "code",
   "execution_count": 1,
   "outputs": [],
   "source": [
    "import matplotlib.pyplot as plt\n",
    "import numpy as np\n",
    "from sklearn.model_selection import train_test_split\n",
    "from keras import models\n",
    "from keras import layers\n",
    "from tensorflow.python.keras.utils.np_utils import to_categorical\n",
    "from keras.utils.vis_utils import plot_model"
   ],
   "metadata": {
    "collapsed": false,
    "pycharm": {
     "name": "#%%\n"
    }
   }
  },
  {
   "cell_type": "code",
   "execution_count": 2,
   "outputs": [],
   "source": [
    "x = np.arange(10).reshape(-1,1) # reshape(-1,1) сделать из строки столбец\n",
    "y = np.array([0, 0, 0, 0, 1, 1, 1, 1, 1, 1])"
   ],
   "metadata": {
    "collapsed": false,
    "pycharm": {
     "name": "#%%\n"
    }
   }
  },
  {
   "cell_type": "code",
   "execution_count": 3,
   "outputs": [
    {
     "data": {
      "text/plain": "array([[1., 0.],\n       [1., 0.],\n       [1., 0.],\n       [1., 0.],\n       [0., 1.],\n       [0., 1.],\n       [0., 1.],\n       [0., 1.],\n       [0., 1.],\n       [0., 1.]], dtype=float32)"
     },
     "execution_count": 3,
     "metadata": {},
     "output_type": "execute_result"
    }
   ],
   "source": [
    "X_train, X_test, y_train, y_test = train_test_split(x,y,test_size=0.4)  # разбивка данных на тренировочную и тестовую test_size это процент тестовой выборки из всех элементов, 0.4 - 40%\n",
    "t = to_categorical(y) # перевод переменной у в категориальные переменные два столбца это два класса, строки это принадлежность элемента к определенному классу\n",
    "t"
   ],
   "metadata": {
    "collapsed": false,
    "pycharm": {
     "name": "#%%\n"
    }
   }
  },
  {
   "cell_type": "code",
   "execution_count": 4,
   "outputs": [],
   "source": [
    "network = models.Sequential() # Создание модели нейронки Sequential() значит последовательная модель в конце будет видно\n",
    "network.add(layers.Dense(20, activation='relu', name = 'LayerInput')) # add() добавление слоев в модель, 20 Положительное целое число размерность выходного пространства то есть количество нейронов, activation - функция активации, name - необязательное для отображения названия слоя на графике ниже\n",
    "network.add(layers.Dense(2, activation='softmax', name= 'LayerTwo')) # в последнем слое количество выходных нейронов должно быть равно количеству классов которые у нас есть в данном случае 0 и 1 то есть 2 класса\n",
    "network.compile(optimizer='rmsprop',\n",
    "                loss='categorical_crossentropy',\n",
    "                metrics=['accuracy'])  # optimizer= строка (имя оптимизатора) или экземпляр оптимизатора https://www.tensorflow.org/api_docs/python/tf/keras/optimizers написано какие есть оптимизаторы, loss= функция потери на https://www.tensorflow.org/api_docs/python/tf/keras/losses можно посмотреть какие есть функции. metrics= список метрик (их может быть несколько поэтому [], которые будут оцениваться моделью во время обучения и тестирования на https://www.tensorflow.org/api_docs/python/tf/keras/metrics\n"
   ],
   "metadata": {
    "collapsed": false,
    "pycharm": {
     "name": "#%%\n"
    }
   }
  },
  {
   "cell_type": "code",
   "execution_count": 5,
   "outputs": [
    {
     "name": "stdout",
     "output_type": "stream",
     "text": [
      "Epoch 1/100\n",
      "1/1 [==============================] - 1s 800ms/step - loss: 0.4730 - accuracy: 0.7000\n",
      "Epoch 2/100\n",
      "1/1 [==============================] - 0s 0s/step - loss: 0.4674 - accuracy: 0.7000\n",
      "Epoch 3/100\n",
      "1/1 [==============================] - 0s 5ms/step - loss: 0.4648 - accuracy: 0.7000\n",
      "Epoch 4/100\n",
      "1/1 [==============================] - 0s 4ms/step - loss: 0.4630 - accuracy: 0.7000\n",
      "Epoch 5/100\n",
      "1/1 [==============================] - 0s 0s/step - loss: 0.4613 - accuracy: 0.7000\n",
      "Epoch 6/100\n",
      "1/1 [==============================] - 0s 2ms/step - loss: 0.4598 - accuracy: 0.7000\n",
      "Epoch 7/100\n",
      "1/1 [==============================] - 0s 9ms/step - loss: 0.4584 - accuracy: 0.7000\n",
      "Epoch 8/100\n",
      "1/1 [==============================] - 0s 0s/step - loss: 0.4571 - accuracy: 0.7000\n",
      "Epoch 9/100\n",
      "1/1 [==============================] - 0s 0s/step - loss: 0.4558 - accuracy: 0.7000\n",
      "Epoch 10/100\n",
      "1/1 [==============================] - 0s 10ms/step - loss: 0.4545 - accuracy: 0.7000\n",
      "Epoch 11/100\n",
      "1/1 [==============================] - 0s 0s/step - loss: 0.4533 - accuracy: 0.7000\n",
      "Epoch 12/100\n",
      "1/1 [==============================] - 0s 0s/step - loss: 0.4520 - accuracy: 0.7000\n",
      "Epoch 13/100\n",
      "1/1 [==============================] - 0s 10ms/step - loss: 0.4509 - accuracy: 0.7000\n",
      "Epoch 14/100\n",
      "1/1 [==============================] - 0s 10ms/step - loss: 0.4497 - accuracy: 0.7000\n",
      "Epoch 15/100\n",
      "1/1 [==============================] - 0s 0s/step - loss: 0.4485 - accuracy: 0.7000\n",
      "Epoch 16/100\n",
      "1/1 [==============================] - 0s 10ms/step - loss: 0.4474 - accuracy: 0.7000\n",
      "Epoch 17/100\n",
      "1/1 [==============================] - 0s 0s/step - loss: 0.4463 - accuracy: 0.7000\n",
      "Epoch 18/100\n",
      "1/1 [==============================] - 0s 5ms/step - loss: 0.4452 - accuracy: 0.7000\n",
      "Epoch 19/100\n",
      "1/1 [==============================] - 0s 6ms/step - loss: 0.4440 - accuracy: 0.7000\n",
      "Epoch 20/100\n",
      "1/1 [==============================] - 0s 0s/step - loss: 0.4430 - accuracy: 0.7000\n",
      "Epoch 21/100\n",
      "1/1 [==============================] - 0s 10ms/step - loss: 0.4419 - accuracy: 0.7000\n",
      "Epoch 22/100\n",
      "1/1 [==============================] - 0s 10ms/step - loss: 0.4408 - accuracy: 0.7000\n",
      "Epoch 23/100\n",
      "1/1 [==============================] - 0s 0s/step - loss: 0.4397 - accuracy: 0.7000\n",
      "Epoch 24/100\n",
      "1/1 [==============================] - 0s 10ms/step - loss: 0.4386 - accuracy: 0.7000\n",
      "Epoch 25/100\n",
      "1/1 [==============================] - 0s 10ms/step - loss: 0.4375 - accuracy: 0.7000\n",
      "Epoch 26/100\n",
      "1/1 [==============================] - 0s 0s/step - loss: 0.4364 - accuracy: 0.7000\n",
      "Epoch 27/100\n",
      "1/1 [==============================] - 0s 0s/step - loss: 0.4354 - accuracy: 0.7000\n",
      "Epoch 28/100\n",
      "1/1 [==============================] - 0s 0s/step - loss: 0.4343 - accuracy: 0.7000\n",
      "Epoch 29/100\n",
      "1/1 [==============================] - 0s 0s/step - loss: 0.4332 - accuracy: 0.7000\n",
      "Epoch 30/100\n",
      "1/1 [==============================] - 0s 10ms/step - loss: 0.4321 - accuracy: 0.7000\n",
      "Epoch 31/100\n",
      "1/1 [==============================] - 0s 10ms/step - loss: 0.4310 - accuracy: 0.7000\n",
      "Epoch 32/100\n",
      "1/1 [==============================] - 0s 5ms/step - loss: 0.4299 - accuracy: 0.7000\n",
      "Epoch 33/100\n",
      "1/1 [==============================] - 0s 5ms/step - loss: 0.4288 - accuracy: 0.7000\n",
      "Epoch 34/100\n",
      "1/1 [==============================] - 0s 0s/step - loss: 0.4278 - accuracy: 0.7000\n",
      "Epoch 35/100\n",
      "1/1 [==============================] - 0s 0s/step - loss: 0.4267 - accuracy: 0.7000\n",
      "Epoch 36/100\n",
      "1/1 [==============================] - 0s 10ms/step - loss: 0.4256 - accuracy: 0.7000\n",
      "Epoch 37/100\n",
      "1/1 [==============================] - 0s 10ms/step - loss: 0.4245 - accuracy: 0.7000\n",
      "Epoch 38/100\n",
      "1/1 [==============================] - 0s 10ms/step - loss: 0.4234 - accuracy: 0.7000\n",
      "Epoch 39/100\n",
      "1/1 [==============================] - 0s 0s/step - loss: 0.4223 - accuracy: 0.7000\n",
      "Epoch 40/100\n",
      "1/1 [==============================] - 0s 0s/step - loss: 0.4212 - accuracy: 0.7000\n",
      "Epoch 41/100\n",
      "1/1 [==============================] - 0s 10ms/step - loss: 0.4201 - accuracy: 0.7000\n",
      "Epoch 42/100\n",
      "1/1 [==============================] - 0s 0s/step - loss: 0.4190 - accuracy: 0.7000\n",
      "Epoch 43/100\n",
      "1/1 [==============================] - 0s 0s/step - loss: 0.4179 - accuracy: 0.7000\n",
      "Epoch 44/100\n",
      "1/1 [==============================] - 0s 10ms/step - loss: 0.4168 - accuracy: 0.7000\n",
      "Epoch 45/100\n",
      "1/1 [==============================] - 0s 5ms/step - loss: 0.4157 - accuracy: 0.7000\n",
      "Epoch 46/100\n",
      "1/1 [==============================] - 0s 5ms/step - loss: 0.4146 - accuracy: 0.8000\n",
      "Epoch 47/100\n",
      "1/1 [==============================] - 0s 6ms/step - loss: 0.4135 - accuracy: 0.8000\n",
      "Epoch 48/100\n",
      "1/1 [==============================] - 0s 0s/step - loss: 0.4124 - accuracy: 0.8000\n",
      "Epoch 49/100\n",
      "1/1 [==============================] - 0s 0s/step - loss: 0.4113 - accuracy: 0.8000\n",
      "Epoch 50/100\n",
      "1/1 [==============================] - 0s 2ms/step - loss: 0.4102 - accuracy: 0.8000\n",
      "Epoch 51/100\n",
      "1/1 [==============================] - 0s 8ms/step - loss: 0.4091 - accuracy: 0.8000\n",
      "Epoch 52/100\n",
      "1/1 [==============================] - 0s 0s/step - loss: 0.4080 - accuracy: 0.8000\n",
      "Epoch 53/100\n",
      "1/1 [==============================] - 0s 10ms/step - loss: 0.4069 - accuracy: 0.8000\n",
      "Epoch 54/100\n",
      "1/1 [==============================] - 0s 0s/step - loss: 0.4058 - accuracy: 0.8000\n",
      "Epoch 55/100\n",
      "1/1 [==============================] - 0s 0s/step - loss: 0.4046 - accuracy: 0.8000\n",
      "Epoch 56/100\n",
      "1/1 [==============================] - 0s 10ms/step - loss: 0.4035 - accuracy: 0.8000\n",
      "Epoch 57/100\n",
      "1/1 [==============================] - 0s 10ms/step - loss: 0.4024 - accuracy: 0.8000\n",
      "Epoch 58/100\n",
      "1/1 [==============================] - 0s 0s/step - loss: 0.4013 - accuracy: 0.8000\n",
      "Epoch 59/100\n",
      "1/1 [==============================] - 0s 10ms/step - loss: 0.4002 - accuracy: 0.8000\n",
      "Epoch 60/100\n",
      "1/1 [==============================] - 0s 5ms/step - loss: 0.3991 - accuracy: 0.8000\n",
      "Epoch 61/100\n",
      "1/1 [==============================] - 0s 5ms/step - loss: 0.3979 - accuracy: 0.8000\n",
      "Epoch 62/100\n",
      "1/1 [==============================] - 0s 0s/step - loss: 0.3968 - accuracy: 0.8000\n",
      "Epoch 63/100\n",
      "1/1 [==============================] - 0s 11ms/step - loss: 0.3957 - accuracy: 0.8000\n",
      "Epoch 64/100\n",
      "1/1 [==============================] - 0s 0s/step - loss: 0.3946 - accuracy: 0.8000\n",
      "Epoch 65/100\n",
      "1/1 [==============================] - 0s 0s/step - loss: 0.3935 - accuracy: 0.8000\n",
      "Epoch 66/100\n",
      "1/1 [==============================] - 0s 10ms/step - loss: 0.3923 - accuracy: 0.8000\n",
      "Epoch 67/100\n",
      "1/1 [==============================] - 0s 0s/step - loss: 0.3912 - accuracy: 0.8000\n",
      "Epoch 68/100\n",
      "1/1 [==============================] - 0s 0s/step - loss: 0.3901 - accuracy: 0.8000\n",
      "Epoch 69/100\n",
      "1/1 [==============================] - 0s 10ms/step - loss: 0.3890 - accuracy: 0.8000\n",
      "Epoch 70/100\n",
      "1/1 [==============================] - 0s 0s/step - loss: 0.3878 - accuracy: 0.8000\n",
      "Epoch 71/100\n",
      "1/1 [==============================] - 0s 0s/step - loss: 0.3867 - accuracy: 0.8000\n",
      "Epoch 72/100\n",
      "1/1 [==============================] - 0s 10ms/step - loss: 0.3856 - accuracy: 0.8000\n",
      "Epoch 73/100\n",
      "1/1 [==============================] - 0s 5ms/step - loss: 0.3844 - accuracy: 0.8000\n",
      "Epoch 74/100\n",
      "1/1 [==============================] - 0s 5ms/step - loss: 0.3833 - accuracy: 0.8000\n",
      "Epoch 75/100\n",
      "1/1 [==============================] - 0s 4ms/step - loss: 0.3822 - accuracy: 0.8000\n",
      "Epoch 76/100\n",
      "1/1 [==============================] - 0s 507us/step - loss: 0.3811 - accuracy: 0.8000\n",
      "Epoch 77/100\n",
      "1/1 [==============================] - 0s 0s/step - loss: 0.3799 - accuracy: 0.8000\n",
      "Epoch 78/100\n",
      "1/1 [==============================] - 0s 0s/step - loss: 0.3788 - accuracy: 0.8000\n",
      "Epoch 79/100\n",
      "1/1 [==============================] - 0s 10ms/step - loss: 0.3777 - accuracy: 0.8000\n",
      "Epoch 80/100\n",
      "1/1 [==============================] - 0s 5ms/step - loss: 0.3766 - accuracy: 0.8000\n",
      "Epoch 81/100\n",
      "1/1 [==============================] - 0s 0s/step - loss: 0.3754 - accuracy: 0.8000\n",
      "Epoch 82/100\n",
      "1/1 [==============================] - 0s 4ms/step - loss: 0.3743 - accuracy: 0.8000\n",
      "Epoch 83/100\n",
      "1/1 [==============================] - 0s 5ms/step - loss: 0.3732 - accuracy: 0.8000\n",
      "Epoch 84/100\n",
      "1/1 [==============================] - 0s 2ms/step - loss: 0.3720 - accuracy: 0.8000\n",
      "Epoch 85/100\n",
      "1/1 [==============================] - 0s 8ms/step - loss: 0.3709 - accuracy: 0.8000\n",
      "Epoch 86/100\n",
      "1/1 [==============================] - 0s 8ms/step - loss: 0.3698 - accuracy: 0.8000\n",
      "Epoch 87/100\n",
      "1/1 [==============================] - 0s 5ms/step - loss: 0.3686 - accuracy: 0.8000\n",
      "Epoch 88/100\n",
      "1/1 [==============================] - 0s 5ms/step - loss: 0.3675 - accuracy: 0.8000\n",
      "Epoch 89/100\n",
      "1/1 [==============================] - 0s 0s/step - loss: 0.3664 - accuracy: 0.8000\n",
      "Epoch 90/100\n",
      "1/1 [==============================] - 0s 5ms/step - loss: 0.3652 - accuracy: 0.8000\n",
      "Epoch 91/100\n",
      "1/1 [==============================] - 0s 5ms/step - loss: 0.3641 - accuracy: 0.8000\n",
      "Epoch 92/100\n",
      "1/1 [==============================] - 0s 0s/step - loss: 0.3630 - accuracy: 0.8000\n",
      "Epoch 93/100\n",
      "1/1 [==============================] - 0s 0s/step - loss: 0.3618 - accuracy: 0.8000\n",
      "Epoch 94/100\n",
      "1/1 [==============================] - 0s 10ms/step - loss: 0.3607 - accuracy: 0.8000\n",
      "Epoch 95/100\n",
      "1/1 [==============================] - 0s 10ms/step - loss: 0.3596 - accuracy: 0.8000\n",
      "Epoch 96/100\n",
      "1/1 [==============================] - 0s 0s/step - loss: 0.3584 - accuracy: 0.8000\n",
      "Epoch 97/100\n",
      "1/1 [==============================] - 0s 0s/step - loss: 0.3573 - accuracy: 0.8000\n",
      "Epoch 98/100\n",
      "1/1 [==============================] - 0s 10ms/step - loss: 0.3561 - accuracy: 0.8000\n",
      "Epoch 99/100\n",
      "1/1 [==============================] - 0s 0s/step - loss: 0.3550 - accuracy: 0.8000\n",
      "Epoch 100/100\n",
      "1/1 [==============================] - 0s 10ms/step - loss: 0.3539 - accuracy: 0.8000\n"
     ]
    },
    {
     "data": {
      "text/plain": "<keras.callbacks.History at 0x172d1d91fa0>"
     },
     "execution_count": 5,
     "metadata": {},
     "output_type": "execute_result"
    }
   ],
   "source": [
    "network.fit(x, t, epochs=100, batch_size=10, verbose=1) # Обучение модели х это массив на которых нужно обучить модель, t созданный массив категориальных переменных epochs - данные х и t сто раз прошли через нейронную сеть в прямом и обратном направлении, batch_size - это количество выборок, которые передаются в сеть одновременно, то есть количесво элементов тестовой выборки. verbose= количество отображаемой информации при обучении 1 - много информации 3 - только эпохи"
   ],
   "metadata": {
    "collapsed": false,
    "pycharm": {
     "name": "#%%\n"
    }
   }
  },
  {
   "cell_type": "code",
   "execution_count": 6,
   "outputs": [
    {
     "name": "stdout",
     "output_type": "stream",
     "text": [
      "1/1 [==============================] - 0s 106ms/step\n",
      "[[0.58677447 0.41322544]\n",
      " [0.6025528  0.3974472 ]\n",
      " [0.47552496 0.524475  ]\n",
      " [0.3514029  0.6485971 ]\n",
      " [0.24457128 0.7554287 ]\n",
      " [0.16210097 0.8378991 ]\n",
      " [0.10362515 0.8963749 ]\n",
      " [0.06461698 0.93538296]\n",
      " [0.03964346 0.9603566 ]\n",
      " [0.02407342 0.9759266 ]]\n"
     ]
    }
   ],
   "source": [
    "z = network.predict(x, verbose= 1) # Генерирует предсказания для входного массива х, verbose аналогично fit(), возвращает Numpy массив(ы) предсказаний вероятности где каждый столбец это класс\n",
    "print(z)"
   ],
   "metadata": {
    "collapsed": false,
    "pycharm": {
     "name": "#%%\n"
    }
   }
  },
  {
   "cell_type": "code",
   "execution_count": 11,
   "outputs": [
    {
     "data": {
      "text/plain": "<matplotlib.collections.PathCollection at 0x172d4117d30>"
     },
     "execution_count": 11,
     "metadata": {},
     "output_type": "execute_result"
    },
    {
     "data": {
      "text/plain": "<Figure size 432x288 with 1 Axes>",
      "image/png": "[encoded data removed]"
     },
     "metadata": {},
     "output_type": "display_data"
    }
   ],
   "source": [
    "plt.scatter(x, y, color='green', s=150, marker=\"o\") # график исходных данных\n",
    "plt.scatter(x, z[:, 0], color='red', s=175, marker=\"s\")  # график предсказанных данных для класса 0\n",
    "plt.scatter(x, z[:, 1], color='blue', s=175, marker=\"s\") # график предсказанных данных для класса 1"
   ],
   "metadata": {
    "collapsed": false,
    "pycharm": {
     "name": "#%%\n"
    }
   }
  },
  {
   "cell_type": "code",
   "execution_count": 12,
   "outputs": [
    {
     "data": {
      "image/png": "[encoded data removed]",
      "text/plain": "<IPython.core.display.Image object>"
     },
     "execution_count": 12,
     "metadata": {},
     "output_type": "execute_result"
    }
   ],
   "source": [
    "plot_model(network, show_shapes=True, show_layer_names=True, rankdir=\"LR\", dpi=200, show_layer_activations=True) # network модель нейронной сети, show_shapes - отображать ли информацию о форме это ([None,1]), show_layer_names названия слоев которые были введены при создании модели нейронки, rankdir=\"LR\" - рисунок горизонтально, 'TB' - вертикально, dpi разрешение show_layer_activations отображение активаций слоев (только для слоев, у которых есть activation свойство).\n",
    "\n",
    "\n",
    "# может вывести вот такую ошибку - You must install pydot (`pip install pydot`) and install graphviz (see instructions at https://graphviz.gitlab.io/download/) for plot_model/model_to_dot to work.\n",
    "# помогла вот эта установка в консоли анаконды -  conda install pydot"
   ],
   "metadata": {
    "collapsed": false,
    "pycharm": {
     "name": "#%%\n"
    }
   }
  },
  {
   "cell_type": "code",
   "execution_count": null,
   "outputs": [],
   "source": [],
   "metadata": {
    "collapsed": false,
    "pycharm": {
     "name": "#%%\n"
    }
   }
  }
 ],
 "metadata": {
  "kernelspec": {
   "display_name": "Python 3",
   "language": "python",
   "name": "python3"
  },
  "language_info": {
   "codemirror_mode": {
    "name": "ipython",
    "version": 2
   },
   "file_extension": ".py",
   "mimetype": "text/x-python",
   "name": "python",
   "nbconvert_exporter": "python",
   "pygments_lexer": "ipython2",
   "version": "2.7.6"
  }
 },
 "nbformat": 4,
 "nbformat_minor": 0
}
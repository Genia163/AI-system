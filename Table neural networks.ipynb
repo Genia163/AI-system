{
 "cells": [
  {
   "cell_type": "code",
   "execution_count": 1,
   "outputs": [],
   "source": [
    "import matplotlib.pyplot as plt\n",
    "import numpy as np\n",
    "from sklearn.model_selection import train_test_split\n",
    "from keras import models\n",
    "from keras import layers\n",
    "from tensorflow.python.keras.utils.np_utils import to_categorical\n",
    "from keras.utils.vis_utils import plot_model"
   ],
   "metadata": {
    "collapsed": false,
    "pycharm": {
     "name": "#%%\n"
    }
   }
  },
  {
   "cell_type": "code",
   "execution_count": 2,
   "outputs": [],
   "source": [
    "x = np.arange(10).reshape(-1,1) # reshape(-1,1) сделать из строки столбец\n",
    "y = np.array([0, 0, 0, 0, 1, 1, 1, 1, 1, 1])"
   ],
   "metadata": {
    "collapsed": false,
    "pycharm": {
     "name": "#%%\n"
    }
   }
  },
  {
   "cell_type": "code",
   "execution_count": 3,
   "outputs": [
    {
     "data": {
      "text/plain": "array([[1., 0.],\n       [1., 0.],\n       [1., 0.],\n       [1., 0.],\n       [0., 1.],\n       [0., 1.],\n       [0., 1.],\n       [0., 1.],\n       [0., 1.],\n       [0., 1.]], dtype=float32)"
     },
     "execution_count": 3,
     "metadata": {},
     "output_type": "execute_result"
    }
   ],
   "source": [
    "X_train, X_test, y_train, y_test = train_test_split(x,y,test_size=0.4)  # разбивка данных на тренировочную и тестовую test_size это процент тестовой выборки из всех элементов, 0.4 - 40%\n",
    "t = to_categorical(y) # перевод переменной у в категориальные переменные два столбца это два класса, строки это принадлежность элемента к определенному классу\n",
    "t"
   ],
   "metadata": {
    "collapsed": false,
    "pycharm": {
     "name": "#%%\n"
    }
   }
  },
  {
   "cell_type": "code",
   "execution_count": 46,
   "outputs": [],
   "source": [
    "network = models.Sequential() # Создание модели нейронки Sequential() значит последовательная модель в конце будет видно\n",
    "network.add(layers.Dense(5, activation='relu', name = 'LayerInput')) # add() добавление слоев в модель, 20 Положительное целое число размерность выходного пространства то есть количество нейронов, activation - функция активации, name - необязательное для отображения названия слоя на графике ниже\n",
    "network.add(layers.Dense(2, activation='softmax', name= 'LayerTwo')) # в последнем слое количество выходных нейронов должно быть равно количеству классов которые у нас есть в данном случае 0 и 1 то есть 2 класса\n",
    "network.compile(optimizer='rmsprop',\n",
    "                loss='categorical_crossentropy',\n",
    "                metrics=['accuracy'])  # optimizer= строка (имя оптимизатора) или экземпляр оптимизатора https://www.tensorflow.org/api_docs/python/tf/keras/optimizers написано какие есть оптимизаторы, loss= функция потери на https://www.tensorflow.org/api_docs/python/tf/keras/losses можно посмотреть какие есть функции. metrics= список метрик (их может быть несколько поэтому [], которые будут оцениваться моделью во время обучения и тестирования на https://www.tensorflow.org/api_docs/python/tf/keras/metrics\n"
   ],
   "metadata": {
    "collapsed": false,
    "pycharm": {
     "name": "#%%\n"
    }
   }
  },
  {
   "cell_type": "code",
   "execution_count": 47,
   "outputs": [
    {
     "name": "stdout",
     "output_type": "stream",
     "text": [
      "Epoch 1/100\n",
      "1/1 - 1s - loss: 0.5904 - accuracy: 0.7000 - 710ms/epoch - 710ms/step\n",
      "Epoch 2/100\n",
      "1/1 - 0s - loss: 0.5851 - accuracy: 0.6000 - 10ms/epoch - 10ms/step\n",
      "Epoch 3/100\n",
      "1/1 - 0s - loss: 0.5814 - accuracy: 0.6000 - 0s/epoch - 0s/step\n",
      "Epoch 4/100\n",
      "1/1 - 0s - loss: 0.5783 - accuracy: 0.6000 - 10ms/epoch - 10ms/step\n",
      "Epoch 5/100\n",
      "1/1 - 0s - loss: 0.5756 - accuracy: 0.6000 - 0s/epoch - 0s/step\n",
      "Epoch 6/100\n",
      "1/1 - 0s - loss: 0.5732 - accuracy: 0.6000 - 0s/epoch - 0s/step\n",
      "Epoch 7/100\n",
      "1/1 - 0s - loss: 0.5709 - accuracy: 0.6000 - 0s/epoch - 0s/step\n",
      "Epoch 8/100\n",
      "1/1 - 0s - loss: 0.5688 - accuracy: 0.6000 - 0s/epoch - 0s/step\n",
      "Epoch 9/100\n",
      "1/1 - 0s - loss: 0.5668 - accuracy: 0.6000 - 0s/epoch - 0s/step\n",
      "Epoch 10/100\n",
      "1/1 - 0s - loss: 0.5648 - accuracy: 0.6000 - 0s/epoch - 0s/step\n",
      "Epoch 11/100\n",
      "1/1 - 0s - loss: 0.5629 - accuracy: 0.6000 - 10ms/epoch - 10ms/step\n",
      "Epoch 12/100\n",
      "1/1 - 0s - loss: 0.5610 - accuracy: 0.6000 - 0s/epoch - 0s/step\n",
      "Epoch 13/100\n",
      "1/1 - 0s - loss: 0.5592 - accuracy: 0.7000 - 5ms/epoch - 5ms/step\n",
      "Epoch 14/100\n",
      "1/1 - 0s - loss: 0.5574 - accuracy: 0.7000 - 0s/epoch - 0s/step\n",
      "Epoch 15/100\n",
      "1/1 - 0s - loss: 0.5557 - accuracy: 0.7000 - 10ms/epoch - 10ms/step\n",
      "Epoch 16/100\n",
      "1/1 - 0s - loss: 0.5540 - accuracy: 0.7000 - 0s/epoch - 0s/step\n",
      "Epoch 17/100\n",
      "1/1 - 0s - loss: 0.5523 - accuracy: 0.7000 - 10ms/epoch - 10ms/step\n",
      "Epoch 18/100\n",
      "1/1 - 0s - loss: 0.5506 - accuracy: 0.7000 - 0s/epoch - 0s/step\n",
      "Epoch 19/100\n",
      "1/1 - 0s - loss: 0.5489 - accuracy: 0.7000 - 5ms/epoch - 5ms/step\n",
      "Epoch 20/100\n",
      "1/1 - 0s - loss: 0.5473 - accuracy: 0.7000 - 4ms/epoch - 4ms/step\n",
      "Epoch 21/100\n",
      "1/1 - 0s - loss: 0.5457 - accuracy: 0.7000 - 0s/epoch - 0s/step\n",
      "Epoch 22/100\n",
      "1/1 - 0s - loss: 0.5441 - accuracy: 0.7000 - 0s/epoch - 0s/step\n",
      "Epoch 23/100\n",
      "1/1 - 0s - loss: 0.5425 - accuracy: 0.7000 - 0s/epoch - 0s/step\n",
      "Epoch 24/100\n",
      "1/1 - 0s - loss: 0.5409 - accuracy: 0.7000 - 0s/epoch - 0s/step\n",
      "Epoch 25/100\n",
      "1/1 - 0s - loss: 0.5394 - accuracy: 0.7000 - 9ms/epoch - 9ms/step\n",
      "Epoch 26/100\n",
      "1/1 - 0s - loss: 0.5378 - accuracy: 0.7000 - 0s/epoch - 0s/step\n",
      "Epoch 27/100\n",
      "1/1 - 0s - loss: 0.5363 - accuracy: 0.7000 - 0s/epoch - 0s/step\n",
      "Epoch 28/100\n",
      "1/1 - 0s - loss: 0.5347 - accuracy: 0.7000 - 0s/epoch - 0s/step\n",
      "Epoch 29/100\n",
      "1/1 - 0s - loss: 0.5332 - accuracy: 0.7000 - 10ms/epoch - 10ms/step\n",
      "Epoch 30/100\n",
      "1/1 - 0s - loss: 0.5317 - accuracy: 0.7000 - 0s/epoch - 0s/step\n",
      "Epoch 31/100\n",
      "1/1 - 0s - loss: 0.5302 - accuracy: 0.7000 - 0s/epoch - 0s/step\n",
      "Epoch 32/100\n",
      "1/1 - 0s - loss: 0.5287 - accuracy: 0.7000 - 0s/epoch - 0s/step\n",
      "Epoch 33/100\n",
      "1/1 - 0s - loss: 0.5272 - accuracy: 0.7000 - 0s/epoch - 0s/step\n",
      "Epoch 34/100\n",
      "1/1 - 0s - loss: 0.5258 - accuracy: 0.7000 - 0s/epoch - 0s/step\n",
      "Epoch 35/100\n",
      "1/1 - 0s - loss: 0.5243 - accuracy: 0.7000 - 10ms/epoch - 10ms/step\n",
      "Epoch 36/100\n",
      "1/1 - 0s - loss: 0.5228 - accuracy: 0.7000 - 0s/epoch - 0s/step\n",
      "Epoch 37/100\n",
      "1/1 - 0s - loss: 0.5214 - accuracy: 0.7000 - 10ms/epoch - 10ms/step\n",
      "Epoch 38/100\n",
      "1/1 - 0s - loss: 0.5200 - accuracy: 0.7000 - 0s/epoch - 0s/step\n",
      "Epoch 39/100\n",
      "1/1 - 0s - loss: 0.5185 - accuracy: 0.7000 - 10ms/epoch - 10ms/step\n",
      "Epoch 40/100\n",
      "1/1 - 0s - loss: 0.5171 - accuracy: 0.7000 - 0s/epoch - 0s/step\n",
      "Epoch 41/100\n",
      "1/1 - 0s - loss: 0.5157 - accuracy: 0.7000 - 10ms/epoch - 10ms/step\n",
      "Epoch 42/100\n",
      "1/1 - 0s - loss: 0.5143 - accuracy: 0.7000 - 0s/epoch - 0s/step\n",
      "Epoch 43/100\n",
      "1/1 - 0s - loss: 0.5129 - accuracy: 0.7000 - 10ms/epoch - 10ms/step\n",
      "Epoch 44/100\n",
      "1/1 - 0s - loss: 0.5115 - accuracy: 0.7000 - 0s/epoch - 0s/step\n",
      "Epoch 45/100\n",
      "1/1 - 0s - loss: 0.5101 - accuracy: 0.7000 - 1ms/epoch - 1ms/step\n",
      "Epoch 46/100\n",
      "1/1 - 0s - loss: 0.5088 - accuracy: 0.7000 - 0s/epoch - 0s/step\n",
      "Epoch 47/100\n",
      "1/1 - 0s - loss: 0.5074 - accuracy: 0.7000 - 0s/epoch - 0s/step\n",
      "Epoch 48/100\n",
      "1/1 - 0s - loss: 0.5061 - accuracy: 0.7000 - 0s/epoch - 0s/step\n",
      "Epoch 49/100\n",
      "1/1 - 0s - loss: 0.5047 - accuracy: 0.7000 - 0s/epoch - 0s/step\n",
      "Epoch 50/100\n",
      "1/1 - 0s - loss: 0.5034 - accuracy: 0.7000 - 9ms/epoch - 9ms/step\n",
      "Epoch 51/100\n",
      "1/1 - 0s - loss: 0.5020 - accuracy: 0.7000 - 0s/epoch - 0s/step\n",
      "Epoch 52/100\n",
      "1/1 - 0s - loss: 0.5007 - accuracy: 0.7000 - 10ms/epoch - 10ms/step\n",
      "Epoch 53/100\n",
      "1/1 - 0s - loss: 0.4994 - accuracy: 0.7000 - 0s/epoch - 0s/step\n",
      "Epoch 54/100\n",
      "1/1 - 0s - loss: 0.4981 - accuracy: 0.7000 - 10ms/epoch - 10ms/step\n",
      "Epoch 55/100\n",
      "1/1 - 0s - loss: 0.4968 - accuracy: 0.7000 - 0s/epoch - 0s/step\n",
      "Epoch 56/100\n",
      "1/1 - 0s - loss: 0.4955 - accuracy: 0.7000 - 10ms/epoch - 10ms/step\n",
      "Epoch 57/100\n",
      "1/1 - 0s - loss: 0.4942 - accuracy: 0.7000 - 0s/epoch - 0s/step\n",
      "Epoch 58/100\n",
      "1/1 - 0s - loss: 0.4930 - accuracy: 0.7000 - 10ms/epoch - 10ms/step\n",
      "Epoch 59/100\n",
      "1/1 - 0s - loss: 0.4917 - accuracy: 0.7000 - 0s/epoch - 0s/step\n",
      "Epoch 60/100\n",
      "1/1 - 0s - loss: 0.4904 - accuracy: 0.7000 - 0s/epoch - 0s/step\n",
      "Epoch 61/100\n",
      "1/1 - 0s - loss: 0.4892 - accuracy: 0.7000 - 0s/epoch - 0s/step\n",
      "Epoch 62/100\n",
      "1/1 - 0s - loss: 0.4879 - accuracy: 0.7000 - 0s/epoch - 0s/step\n",
      "Epoch 63/100\n",
      "1/1 - 0s - loss: 0.4867 - accuracy: 0.7000 - 0s/epoch - 0s/step\n",
      "Epoch 64/100\n",
      "1/1 - 0s - loss: 0.4855 - accuracy: 0.7000 - 11ms/epoch - 11ms/step\n",
      "Epoch 65/100\n",
      "1/1 - 0s - loss: 0.4842 - accuracy: 0.7000 - 0s/epoch - 0s/step\n",
      "Epoch 66/100\n",
      "1/1 - 0s - loss: 0.4830 - accuracy: 0.7000 - 9ms/epoch - 9ms/step\n",
      "Epoch 67/100\n",
      "1/1 - 0s - loss: 0.4818 - accuracy: 0.7000 - 0s/epoch - 0s/step\n",
      "Epoch 68/100\n",
      "1/1 - 0s - loss: 0.4806 - accuracy: 0.7000 - 10ms/epoch - 10ms/step\n",
      "Epoch 69/100\n",
      "1/1 - 0s - loss: 0.4794 - accuracy: 0.7000 - 0s/epoch - 0s/step\n",
      "Epoch 70/100\n",
      "1/1 - 0s - loss: 0.4782 - accuracy: 0.7000 - 0s/epoch - 0s/step\n",
      "Epoch 71/100\n",
      "1/1 - 0s - loss: 0.4770 - accuracy: 0.7000 - 0s/epoch - 0s/step\n",
      "Epoch 72/100\n",
      "1/1 - 0s - loss: 0.4758 - accuracy: 0.7000 - 10ms/epoch - 10ms/step\n",
      "Epoch 73/100\n",
      "1/1 - 0s - loss: 0.4747 - accuracy: 0.7000 - 0s/epoch - 0s/step\n",
      "Epoch 74/100\n",
      "1/1 - 0s - loss: 0.4735 - accuracy: 0.7000 - 0s/epoch - 0s/step\n",
      "Epoch 75/100\n",
      "1/1 - 0s - loss: 0.4724 - accuracy: 0.7000 - 0s/epoch - 0s/step\n",
      "Epoch 76/100\n",
      "1/1 - 0s - loss: 0.4712 - accuracy: 0.7000 - 0s/epoch - 0s/step\n",
      "Epoch 77/100\n",
      "1/1 - 0s - loss: 0.4701 - accuracy: 0.7000 - 0s/epoch - 0s/step\n",
      "Epoch 78/100\n",
      "1/1 - 0s - loss: 0.4689 - accuracy: 0.7000 - 0s/epoch - 0s/step\n",
      "Epoch 79/100\n",
      "1/1 - 0s - loss: 0.4678 - accuracy: 0.7000 - 0s/epoch - 0s/step\n",
      "Epoch 80/100\n",
      "1/1 - 0s - loss: 0.4667 - accuracy: 0.7000 - 0s/epoch - 0s/step\n",
      "Epoch 81/100\n",
      "1/1 - 0s - loss: 0.4656 - accuracy: 0.7000 - 0s/epoch - 0s/step\n",
      "Epoch 82/100\n",
      "1/1 - 0s - loss: 0.4645 - accuracy: 0.7000 - 0s/epoch - 0s/step\n",
      "Epoch 83/100\n",
      "1/1 - 0s - loss: 0.4634 - accuracy: 0.7000 - 5ms/epoch - 5ms/step\n",
      "Epoch 84/100\n",
      "1/1 - 0s - loss: 0.4623 - accuracy: 0.7000 - 2ms/epoch - 2ms/step\n",
      "Epoch 85/100\n",
      "1/1 - 0s - loss: 0.4613 - accuracy: 0.7000 - 0s/epoch - 0s/step\n",
      "Epoch 86/100\n",
      "1/1 - 0s - loss: 0.4602 - accuracy: 0.7000 - 2ms/epoch - 2ms/step\n",
      "Epoch 87/100\n",
      "1/1 - 0s - loss: 0.4591 - accuracy: 0.7000 - 0s/epoch - 0s/step\n",
      "Epoch 88/100\n",
      "1/1 - 0s - loss: 0.4581 - accuracy: 0.7000 - 9ms/epoch - 9ms/step\n",
      "Epoch 89/100\n",
      "1/1 - 0s - loss: 0.4570 - accuracy: 0.7000 - 0s/epoch - 0s/step\n",
      "Epoch 90/100\n",
      "1/1 - 0s - loss: 0.4560 - accuracy: 0.7000 - 0s/epoch - 0s/step\n",
      "Epoch 91/100\n",
      "1/1 - 0s - loss: 0.4550 - accuracy: 0.7000 - 0s/epoch - 0s/step\n",
      "Epoch 92/100\n",
      "1/1 - 0s - loss: 0.4540 - accuracy: 0.7000 - 10ms/epoch - 10ms/step\n",
      "Epoch 93/100\n",
      "1/1 - 0s - loss: 0.4530 - accuracy: 0.7000 - 0s/epoch - 0s/step\n",
      "Epoch 94/100\n",
      "1/1 - 0s - loss: 0.4520 - accuracy: 0.7000 - 10ms/epoch - 10ms/step\n",
      "Epoch 95/100\n",
      "1/1 - 0s - loss: 0.4510 - accuracy: 0.7000 - 0s/epoch - 0s/step\n",
      "Epoch 96/100\n",
      "1/1 - 0s - loss: 0.4500 - accuracy: 0.7000 - 10ms/epoch - 10ms/step\n",
      "Epoch 97/100\n",
      "1/1 - 0s - loss: 0.4490 - accuracy: 0.7000 - 0s/epoch - 0s/step\n",
      "Epoch 98/100\n",
      "1/1 - 0s - loss: 0.4480 - accuracy: 0.7000 - 10ms/epoch - 10ms/step\n",
      "Epoch 99/100\n",
      "1/1 - 0s - loss: 0.4471 - accuracy: 0.7000 - 0s/epoch - 0s/step\n",
      "Epoch 100/100\n",
      "1/1 - 0s - loss: 0.4461 - accuracy: 0.7000 - 10ms/epoch - 10ms/step\n"
     ]
    },
    {
     "data": {
      "text/plain": "<keras.callbacks.History at 0x172d44fb040>"
     },
     "execution_count": 47,
     "metadata": {},
     "output_type": "execute_result"
    }
   ],
   "source": [
    "network.fit(x, t, epochs=100, batch_size=10, verbose=2) # Обучение модели х это массив на которых нужно обучить модель, t созданный массив категориальных переменных epochs - данные х и t сто раз прошли через нейронную сеть в прямом и обратном направлении, batch_size - это количество выборок, которые передаются в сеть одновременно, то есть количесво элементов тестовой выборки. verbose= количество отображаемой информации при обучении 1 - много информации 3 - только эпохи"
   ],
   "metadata": {
    "collapsed": false,
    "pycharm": {
     "name": "#%%\n"
    }
   }
  },
  {
   "cell_type": "code",
   "execution_count": 48,
   "outputs": [
    {
     "name": "stdout",
     "output_type": "stream",
     "text": [
      "1/1 [==============================] - 0s 63ms/step\n",
      "[[0.553694   0.44630605]\n",
      " [0.49655107 0.5034489 ]\n",
      " [0.4296766  0.5703234 ]\n",
      " [0.36527398 0.6347259 ]\n",
      " [0.30535614 0.69464386]\n",
      " [0.2513744  0.7486256 ]\n",
      " [0.20413142 0.7958685 ]\n",
      " [0.1638242  0.83617586]\n",
      " [0.13017419 0.86982584]\n",
      " [0.10258796 0.8974121 ]]\n"
     ]
    }
   ],
   "source": [
    "z = network.predict(x, verbose= 1) # Генерирует предсказания для входного массива х, verbose аналогично fit(), возвращает Numpy массив(ы) предсказаний вероятности где каждый столбец это класс\n",
    "print(z)"
   ],
   "metadata": {
    "collapsed": false,
    "pycharm": {
     "name": "#%%\n"
    }
   }
  },
  {
   "cell_type": "code",
   "execution_count": 49,
   "outputs": [
    {
     "data": {
      "text/plain": "<matplotlib.collections.PathCollection at 0x172d9249430>"
     },
     "execution_count": 49,
     "metadata": {},
     "output_type": "execute_result"
    },
    {
     "data": {
      "text/plain": "<Figure size 432x288 with 1 Axes>",
      "image/png": "[encoded data removed]"
     },
     "metadata": {},
     "output_type": "display_data"
    }
   ],
   "source": [
    "plt.scatter(x, y, color='green', s=150, marker=\"o\") # график исходных данных\n",
    "plt.scatter(x, z[:, 0], color='red', s=175, marker=\"s\")  # график предсказанных данных для класса 0\n",
    "plt.scatter(x, z[:, 1], color='blue', s=175, marker=\"s\") # график предсказанных данных для класса 1"
   ],
   "metadata": {
    "collapsed": false,
    "pycharm": {
     "name": "#%%\n"
    }
   }
  },
  {
   "cell_type": "code",
   "execution_count": 50,
   "outputs": [
    {
     "name": "stdout",
     "output_type": "stream",
     "text": [
      "Model: \"sequential_3\"\n",
      "_________________________________________________________________\n",
      " Layer (type)                Output Shape              Param #   \n",
      "=================================================================\n",
      " LayerInput (Dense)          (None, 5)                 10        \n",
      "                                                                 \n",
      " LayerTwo (Dense)            (None, 2)                 12        \n",
      "                                                                 \n",
      "=================================================================\n",
      "Total params: 22\n",
      "Trainable params: 22\n",
      "Non-trainable params: 0\n",
      "_________________________________________________________________\n",
      "None\n"
     ]
    },
    {
     "data": {
      "image/png": "[encoded data removed]",
      "text/plain": "<IPython.core.display.Image object>"
     },
     "execution_count": 50,
     "metadata": {},
     "output_type": "execute_result"
    }
   ],
   "source": [
    "print(network.summary()) # Для плотных слоев: Param # вычисляется output_size * (input_size + 1) == number_parameters - 20*(1+1) + 2*(20+1) = 82\n",
    "plot_model(network, show_shapes=True, show_layer_names=True, rankdir=\"LR\", dpi=200, show_layer_activations=True) # network модель нейронной сети, show_shapes - отображать ли информацию о форме это ([None,1]), show_layer_names названия слоев которые были введены при создании модели нейронки, rankdir=\"LR\" - рисунок горизонтально, 'TB' - вертикально, dpi разрешение show_layer_activations отображение активаций слоев (только для слоев, у которых есть activation свойство).\n",
    "\n",
    "# может вывести вот такую ошибку - You must install pydot (`pip install pydot`) and install graphviz (see instructions at https://graphviz.gitlab.io/download/) for plot_model/model_to_dot to work.\n",
    "# помогла вот эта установка в консоли анаконды -  conda install pydot"
   ],
   "metadata": {
    "collapsed": false,
    "pycharm": {
     "name": "#%%\n"
    }
   }
  },
  {
   "cell_type": "code",
   "execution_count": 53,
   "outputs": [
    {
     "name": "stdout",
     "output_type": "stream",
     "text": [
      "[array([[-0.9963317 , -0.7210362 , -0.15454888,  0.57922363,  0.25995725]],\n",
      "      dtype=float32), array([ 0.        ,  0.        ,  0.        , -0.06304935, -0.06341358],\n",
      "      dtype=float32)]\n",
      "\n",
      " [array([[-0.88263726,  0.03582251],\n",
      "       [-0.6458659 ,  0.43476093],\n",
      "       [ 0.04827935, -0.11367977],\n",
      "       [ 0.42952895,  0.75848293],\n",
      "       [ 0.06623779,  0.36950654]], dtype=float32), array([ 0.10780364, -0.10780362], dtype=float32)]\n"
     ]
    }
   ],
   "source": [
    "print(network.layers[0].get_weights()) # вывод весов первого [0] входного слоя сети\n",
    "print('\\n',network.layers[1].get_weights()) # сумма весов двух как раз и равна количеству параметров сети выше"
   ],
   "metadata": {
    "collapsed": false,
    "pycharm": {
     "name": "#%%\n"
    }
   }
  }
 ],
 "metadata": {
  "kernelspec": {
   "display_name": "Python 3",
   "language": "python",
   "name": "python3"
  },
  "language_info": {
   "codemirror_mode": {
    "name": "ipython",
    "version": 2
   },
   "file_extension": ".py",
   "mimetype": "text/x-python",
   "name": "python",
   "nbconvert_exporter": "python",
   "pygments_lexer": "ipython2",
   "version": "2.7.6"
  }
 },
 "nbformat": 4,
 "nbformat_minor": 0
}
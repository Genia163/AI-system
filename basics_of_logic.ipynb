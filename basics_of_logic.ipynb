{
 "cells": [
  {
   "cell_type": "code",
   "execution_count": 28,
   "metadata": {
    "collapsed": true,
    "pycharm": {
     "name": "#%%\n"
    }
   },
   "outputs": [],
   "source": [
    "import matplotlib.pyplot as plt\n",
    "from matplotlib_venn import venn3, venn2\n",
    "import numpy as np"
   ]
  },
  {
   "cell_type": "markdown",
   "source": [
    "Основные операции над множествами"
   ],
   "metadata": {
    "collapsed": false,
    "pycharm": {
     "name": "#%% md\n"
    }
   }
  },
  {
   "cell_type": "markdown",
   "source": [
    "Создание множеств"
   ],
   "metadata": {
    "collapsed": false,
    "pycharm": {
     "name": "#%% md\n"
    }
   }
  },
  {
   "cell_type": "code",
   "execution_count": 3,
   "outputs": [
    {
     "name": "stdout",
     "output_type": "stream",
     "text": [
      "Множество а =  {0, 1, 2, 3}\n",
      "Множество data =  ['a', 'd', 't']\n",
      "\n",
      "Массив рандомных чисел [3 2 1 2 1 3 3 0 3 0]\n",
      "Множесство из Массива rand {0, 1, 2, 3}\n"
     ]
    }
   ],
   "source": [
    "plenty_a = {1,2,0,1,3,2} # {} означает что это множество\n",
    "print('Множество а = ', plenty_a)\n",
    "\n",
    "plenty_data = set('data') # set это создание множества\n",
    "print('Множество data = ', sorted(plenty_data)) # Сортировка множества data\n",
    "\n",
    "rand = np.random.randint(0, 5, 10)\n",
    "print('\\nМассив рандомных чисел', rand)\n",
    "plenty_rand = set(rand)\n",
    "print('Множесство из Массива rand', plenty_rand) # повторяющиеся элементы удаляются\n"
   ],
   "metadata": {
    "collapsed": false,
    "pycharm": {
     "name": "#%%\n"
    }
   }
  },
  {
   "cell_type": "markdown",
   "source": [
    "Операции над элементами множества"
   ],
   "metadata": {
    "collapsed": false,
    "pycharm": {
     "name": "#%% md\n"
    }
   }
  },
  {
   "cell_type": "code",
   "execution_count": 4,
   "outputs": [
    {
     "name": "stdout",
     "output_type": "stream",
     "text": [
      "Есть ли 2 в plenty_a True\n",
      "Есть ли 5 в plenty_a False\n",
      "\n",
      "Отсутствует 2 в plenty_a False\n",
      "Отсутствует ли 5 в plenty_a True\n"
     ]
    }
   ],
   "source": [
    "print('Есть ли 2 в plenty_a',2 in plenty_a)\n",
    "print('Есть ли 5 в plenty_a',5 in plenty_a)\n",
    "\n",
    "print('\\nОтсутствует 2 в plenty_a',2 not in plenty_a)\n",
    "print('Отсутствует ли 5 в plenty_a',5 not in plenty_a)"
   ],
   "metadata": {
    "collapsed": false,
    "pycharm": {
     "name": "#%%\n"
    }
   }
  },
  {
   "cell_type": "code",
   "execution_count": 5,
   "outputs": [
    {
     "name": "stdout",
     "output_type": "stream",
     "text": [
      "Длина множества  {0, 1, 2, 3}  -  4\n",
      "Длина множества data {'d', 'a', 't'}  -  3\n"
     ]
    }
   ],
   "source": [
    "print('Длина множества ',plenty_a,' - ',len(plenty_a))\n",
    "print('Длина множества data',plenty_data,' - ',len(plenty_data))"
   ],
   "metadata": {
    "collapsed": false,
    "pycharm": {
     "name": "#%%\n"
    }
   }
  },
  {
   "cell_type": "code",
   "execution_count": 6,
   "outputs": [
    {
     "name": "stdout",
     "output_type": "stream",
     "text": [
      "Множство data -  {'d', 'a', 't'}\n",
      "Добавили элемент 100 -  {'d', 'a', 100, 't'}\n",
      "Удалили элемент d -  {'a', 100, 't'}\n",
      "Удалили 1-ый элемент -  {100, 't'}\n",
      "Удалили элемент d -  {100}\n",
      "Удалили элемент d -  {100}\n",
      "Множество а =  {0, 1, 2, 3}\n",
      "Очистка всего множества а -  set()\n"
     ]
    }
   ],
   "source": [
    "# добавление элементов\n",
    "plenty_data = set('data')\n",
    "print('Множство data - ', plenty_data)\n",
    "plenty_data.add(100)\n",
    "print('Добавили элемент 100 - ', plenty_data)\n",
    "# удаление элементов\n",
    "plenty_data.discard('d')\n",
    "print('Удалили элемент d - ',plenty_data)\n",
    "\n",
    "plenty_data.pop()\n",
    "print('Удалили 1-ый элемент - ',plenty_data)\n",
    "\n",
    "plenty_data.remove('t')\n",
    "print('Удалили элемент d - ',plenty_data)\n",
    "\n",
    "plenty_data.discard('d')\n",
    "print('Удалили элемент d - ',plenty_data)\n",
    "\n",
    "plenty_a = {1,2,0,1,3,2}\n",
    "print('Множество а = ', plenty_a)\n",
    "plenty_a.clear()\n",
    "print('Очистка всего множества а - ', plenty_a)"
   ],
   "metadata": {
    "collapsed": false,
    "pycharm": {
     "name": "#%%\n"
    }
   }
  },
  {
   "cell_type": "code",
   "execution_count": 7,
   "outputs": [
    {
     "name": "stdout",
     "output_type": "stream",
     "text": [
      "Новое множество a_b -  {'а', 'в', 'г', 'е', 'б', 'з'}\n",
      "Дополненное множество а -  {'а', 'в', 'г', 'е', 'б', 'з'}\n"
     ]
    }
   ],
   "source": [
    "# с созданием 3-го множества\n",
    "a = {\"а\",\"в\", \"е\"}\n",
    "b = {\"б\", \"г\", \"з\"}\n",
    "a_b = a.union(b)\n",
    "print(\"Новое множество a_b - \",a_b)\n",
    "# без создания 3-го множества\n",
    "a.update(b)\n",
    "print(\"Дополненное множество а - \",a)"
   ],
   "metadata": {
    "collapsed": false,
    "pycharm": {
     "name": "#%%\n"
    }
   }
  },
  {
   "cell_type": "code",
   "execution_count": 8,
   "outputs": [
    {
     "name": "stdout",
     "output_type": "stream",
     "text": [
      "a =  [4 1 0 3 0 3 1 2 4 0] \n",
      "b =  [2 0 1 0 3 3 3 2 1 4]\n",
      "Пересечение множеств а и б -  {0, 1, 2, 3, 4}\n",
      "Разность множеств а и б -  set()\n"
     ]
    }
   ],
   "source": [
    "a = np.random.randint(0, 5, 10)\n",
    "b = np.random.randint(0, 5, 10)\n",
    "print('a = ', a, '\\nb = ', b)\n",
    "inter_ab = set(a).intersection(set(b))\n",
    "diff_ab = set(a).difference(set(b))\n",
    "print('Пересечение множеств а и б - ', inter_ab)\n",
    "print('Разность множеств а и б - ', diff_ab) # не всегда есть разность и в консоле будет set() что значит пустое множество"
   ],
   "metadata": {
    "collapsed": false,
    "pycharm": {
     "name": "#%%\n"
    }
   }
  },
  {
   "cell_type": "code",
   "execution_count": 9,
   "outputs": [
    {
     "name": "stdout",
     "output_type": "stream",
     "text": [
      "a =  {0, 1, 2, 3, 4} \n",
      "b =  {0, 1, 2, 3, 4}\n",
      "a это подмножество б?  True\n",
      "a =  {0, 1, 2, 3} \n",
      "b =  {0, 1, 2, 3, 4}\n",
      "a это подмножество б?  True\n"
     ]
    }
   ],
   "source": [
    "print('a = ', set(a), '\\nb = ', set(b))\n",
    "print(\"a это подмножество б? \", set(a).issubset(set(b)))\n",
    "a = set(a)\n",
    "a.remove(4)\n",
    "print('a = ', a, '\\nb = ', set(b))\n",
    "print(\"a это подмножество б? \", set(a).issubset(set(b)))"
   ],
   "metadata": {
    "collapsed": false,
    "pycharm": {
     "name": "#%%\n"
    }
   }
  },
  {
   "cell_type": "code",
   "execution_count": 10,
   "outputs": [
    {
     "name": "stdout",
     "output_type": "stream",
     "text": [
      "a =  {0, 1, 2, 3, 4} \n",
      "b =  {0, 1, 2, 3}\n",
      "a это надмножество б? True\n"
     ]
    }
   ],
   "source": [
    "a = np.random.randint(0, 5, 10)\n",
    "b = np.random.randint(0, 5, 10)\n",
    "print('a = ', set(a), '\\nb = ', set(b))\n",
    "print(\"a это надмножество б?\",set(a).issuperset(set(b))) # если много раз воспроизвести когда то да получится False | True"
   ],
   "metadata": {
    "collapsed": false,
    "pycharm": {
     "name": "#%%\n"
    }
   }
  },
  {
   "cell_type": "markdown",
   "source": [
    "Отрисовка пересечения двух массивов"
   ],
   "metadata": {
    "collapsed": false,
    "pycharm": {
     "name": "#%% md\n"
    }
   }
  },
  {
   "cell_type": "code",
   "execution_count": 11,
   "outputs": [
    {
     "data": {
      "text/plain": "<Figure size 432x288 with 1 Axes>",
      "image/png": "[encoded data removed]"
     },
     "metadata": {
      "needs_background": "light"
     },
     "output_type": "display_data"
    },
    {
     "data": {
      "text/plain": "<Figure size 432x288 with 1 Axes>",
      "image/png": "[encoded data removed]"
     },
     "metadata": {
      "needs_background": "light"
     },
     "output_type": "display_data"
    }
   ],
   "source": [
    "a = np.zeros(100)  # Массив из 100 нолей\n",
    "a[20:80] = 1.0     # присваение срезу массива значение 1\n",
    "b = np.zeros(100)\n",
    "b[60:100] = 1.0\n",
    "x = range(len(a))   # создание значений по х исходя из длины массива а\n",
    "fig, ax = plt.subplots()  #  для создания 2 графиков в одном окне\n",
    "ax.set_title(\"Пересечение множеств а и б\")\n",
    "ax.plot(a, color = 'r', linewidth = 3)\n",
    "ax.plot(b, color = 'b', linewidth = 3)\n",
    "ax.fill_between(x,b,y2=0, where= (b == a), facecolor='yellow')  # Для отображения пересечений множеств а и б\n",
    "fig, ax = plt.subplots()  #  для создания 2 графиков в одном окне\n",
    "ax.set_title(\"Разность множеств а и б\")\n",
    "ax.plot(a, color = 'r', linewidth = 3)\n",
    "ax.plot(b, color = 'b', linewidth = 3)\n",
    "ax.fill_between(x,a,b, where= (b != a), facecolor='green')  # Для отображения пересечений множеств а и б\n",
    "plt.show()"
   ],
   "metadata": {
    "collapsed": false,
    "pycharm": {
     "name": "#%%\n"
    }
   }
  },
  {
   "cell_type": "code",
   "execution_count": null,
   "outputs": [],
   "source": [],
   "metadata": {
    "collapsed": false,
    "pycharm": {
     "name": "#%%\n"
    }
   }
  },
  {
   "cell_type": "code",
   "execution_count": 38,
   "outputs": [
    {
     "name": "stdout",
     "output_type": "stream",
     "text": [
      "Set1 -  {1, 2, 3, 4, 5, 6}\n",
      "Set2 -  {5, 6, 7, 8, 9, 10}\n",
      "Set3 -  {16, 18, 20, 10, 12, 15}\n"
     ]
    },
    {
     "data": {
      "text/plain": "<Figure size 432x288 with 1 Axes>",
      "image/png": "[encoded data removed]"
     },
     "metadata": {},
     "output_type": "display_data"
    },
    {
     "data": {
      "text/plain": "<Figure size 432x288 with 1 Axes>",
      "image/png": "[encoded data removed]"
     },
     "metadata": {},
     "output_type": "display_data"
    },
    {
     "data": {
      "text/plain": "<Figure size 432x288 with 1 Axes>",
      "image/png": "[encoded data removed]"
     },
     "metadata": {},
     "output_type": "display_data"
    }
   ],
   "source": [
    "a = {1,2,3,4,5,6}\n",
    "b = {5,6,7,8,9,10}\n",
    "c = {10,12,15,16,18,20}\n",
    "print(\"Set1 - \", a)\n",
    "print(\"Set2 - \", b)\n",
    "print(\"Set3 - \", c)\n",
    "venn3([a, b, c], ('Set1', 'Set2', 'Set3'), alpha=0.7,normalize_to=1)\n",
    "plt.title(\"Пересечение 3 множеств\")\n",
    "plt.show()\n",
    "\n",
    "plt.title(\"2 множества не пересекаются\")\n",
    "venn2([a, c], ('Set1', 'Set3'), alpha=0.7,normalize_to=1)\n",
    "plt.show()\n",
    "\n",
    "a = {6}\n",
    "b = {5,6,9,10}\n",
    "c = {10,12,15,16,18,20}\n",
    "venn3([a, b, c], ('Set1', 'Set2', 'Set3'), alpha=0.7,normalize_to=1)\n",
    "plt.title(\"Пересечение 3 множеств разного размера\")\n",
    "plt.show()"
   ],
   "metadata": {
    "collapsed": false,
    "pycharm": {
     "name": "#%%\n"
    }
   }
  },
  {
   "cell_type": "code",
   "execution_count": null,
   "outputs": [],
   "source": [],
   "metadata": {
    "collapsed": false,
    "pycharm": {
     "name": "#%%\n"
    }
   }
  }
 ],
 "metadata": {
  "kernelspec": {
   "display_name": "Python 3",
   "language": "python",
   "name": "python3"
  },
  "language_info": {
   "codemirror_mode": {
    "name": "ipython",
    "version": 2
   },
   "file_extension": ".py",
   "mimetype": "text/x-python",
   "name": "python",
   "nbconvert_exporter": "python",
   "pygments_lexer": "ipython2",
   "version": "2.7.6"
  }
 },
 "nbformat": 4,
 "nbformat_minor": 0
}
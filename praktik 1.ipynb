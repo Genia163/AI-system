{
 "cells": [
  {
   "cell_type": "code",
   "execution_count": 263,
   "metadata": {
    "collapsed": true
   },
   "outputs": [],
   "source": [
    "import thefuzz.fuzz\n",
    "from thefuzz import process"
   ]
  },
  {
   "cell_type": "markdown",
   "source": [
    "Простая проверка равенства двух строк"
   ],
   "metadata": {
    "collapsed": false,
    "pycharm": {
     "name": "#%% md\n"
    }
   }
  },
  {
   "cell_type": "code",
   "execution_count": 264,
   "outputs": [
    {
     "name": "stdout",
     "output_type": "stream",
     "text": [
      "False\n"
     ]
    }
   ],
   "source": [
    "str_A = 'Привет Мир'\n",
    "str_B = 'Привет миру мир'\n",
    "print(str_A == str_B)"
   ],
   "metadata": {
    "collapsed": false,
    "pycharm": {
     "name": "#%%\n"
    }
   }
  },
  {
   "cell_type": "code",
   "execution_count": 265,
   "outputs": [
    {
     "name": "stdout",
     "output_type": "stream",
     "text": [
      "Строки разные\n",
      "Строки разные\n",
      "Строка Привет Мир не равна 1\n",
      "Строка \"Привет Мир\"  не равна  \"1\"\n"
     ]
    }
   ],
   "source": [
    "str_input = input() # ввод строки пользователем\n",
    "if str_A == str_input:\n",
    "    print(\"Строки одинаковые\")\n",
    "else :\n",
    "    print(\"Строки разные\")\n",
    "\n",
    "print(\"Строки одинаковые\" if str_A == str_input else \"Строки разные\") # тернарный оператор if else\n",
    "print(\"Строка \" + str_A + (\" равна \" if str_A == str_input else \" не равна \") + str_input )\n",
    "print(f\"Строка \\\"{str_A}\\\" %s \\\"{str_input}\\\"\"%(\" равна \" if str_A == str_input else \" не равна \"))"
   ],
   "metadata": {
    "collapsed": false,
    "pycharm": {
     "name": "#%%\n"
    }
   }
  },
  {
   "cell_type": "markdown",
   "source": [
    "Почему одинаковые по буквам строки могут быть не равны?"
   ],
   "metadata": {
    "collapsed": false,
    "pycharm": {
     "name": "#%% md\n"
    }
   }
  },
  {
   "cell_type": "code",
   "execution_count": 266,
   "outputs": [
    {
     "name": "stdout",
     "output_type": "stream",
     "text": [
      "Строка \"привет мир\"   не равна  \"1\"\n",
      "Строка \"ПРИВЕТ МИР\"  не равна  \"1\"\n",
      "Строка \"Привет Мир\"  не равна  \"1\"\n"
     ]
    }
   ],
   "source": [
    "print(f\"Строка \\\"{str_A.lower()}\\\"  %s \\\"{str_input.lower()}\\\"\"%(\" равна \" if str_A == str_input else \" не равна \")) # нижний регистр\n",
    "print(f\"Строка \\\"{str_A.upper()}\\\" %s \\\"{str_input.upper()}\\\"\"%(\" равна \" if str_A == str_input else \" не равна \")) # верхний регистр\n",
    "print(f\"Строка \\\"{str_A}\\\" %s \\\"{str_input}\\\"\"%(\" равна \" if str_A.lower() == str_input.lower() else \" не равна \")) # Исходные строки\n"
   ],
   "metadata": {
    "collapsed": false,
    "pycharm": {
     "name": "#%%\n"
    }
   }
  },
  {
   "cell_type": "markdown",
   "source": [
    "А как оценить процентное соотношение равенства двух строк?\n",
    "Функция thefuzz.fuzz.ratio()"
   ],
   "metadata": {
    "collapsed": false,
    "pycharm": {
     "name": "#%% md\n"
    }
   }
  },
  {
   "cell_type": "code",
   "execution_count": 289,
   "outputs": [
    {
     "name": "stdout",
     "output_type": "stream",
     "text": [
      "33 %\n"
     ]
    }
   ],
   "source": [
    "a = thefuzz.fuzz.ratio(str_A , str_B)\n",
    "print(a,\"%\")"
   ],
   "metadata": {
    "collapsed": false,
    "pycharm": {
     "name": "#%%\n"
    }
   }
  },
  {
   "cell_type": "markdown",
   "source": [
    "Формула определения Равенства строк fuzz.ratio(str_A,str_B)\n",
    "        2*кол-во совпадений/сумму длин двух строк"
   ],
   "metadata": {
    "collapsed": false,
    "pycharm": {
     "name": "#%% md\n"
    }
   }
  },
  {
   "cell_type": "code",
   "execution_count": 268,
   "outputs": [
    {
     "name": "stdout",
     "output_type": "stream",
     "text": [
      "Расстояние между строками - 6\n",
      "Расстояние между строками - 5\n"
     ]
    }
   ],
   "source": [
    "def distance(a, b):\n",
    "    \"Вычисление расстояния между строками алгоритм Левенштейна\"\n",
    "    n, m = len(a), len(b)\n",
    "    if n > m:\n",
    "        a, b = b, a\n",
    "        n, m = m, n\n",
    "    current_row = range(n + 1)\n",
    "    for i in range(1, m + 1):\n",
    "        previous_row, current_row = current_row, [i] + [0] * n\n",
    "        for j in range(1, n + 1):\n",
    "            add, delete, change = previous_row[j] + 1, current_row[j - 1] + 1, previous_row[j - 1]\n",
    "            if a[j - 1] != b[i - 1]:\n",
    "                change += 1\n",
    "            current_row[j] = min(add, delete, change)\n",
    "    return current_row[n]\n",
    "distance_levenstain = distance(str_A, str_B)\n",
    "distance_levenstain_lower = distance(str_A.lower(), str_B.lower())\n",
    "print(\"Расстояние между строками -\",distance_levenstain)\n",
    "print(\"Расстояние между строками -\",distance_levenstain_lower)"
   ],
   "metadata": {
    "collapsed": false,
    "pycharm": {
     "name": "#%%\n"
    }
   }
  },
  {
   "cell_type": "code",
   "execution_count": 274,
   "outputs": [
    {
     "name": "stdout",
     "output_type": "stream",
     "text": [
      "33.33333333333333 %\n",
      "33.33333333333333 %\n"
     ]
    }
   ],
   "source": [
    "def leven_ratio(a,b):\n",
    "    \"Расчет в процентах аналог thefuzz.fuzz.ratio()\"\n",
    "    print(\"Расстояние между строк - \" +str(distance(a, b)))\n",
    "    return str((2*(max(len(a),len(b))-distance(a, b))/(len(a + b)))*100) + \" %\"\n",
    "print(leven_ratio(str_A,str_B))\n",
    "print(leven_ratio(str_A.lower(), str_B.lower()))"
   ],
   "metadata": {
    "collapsed": false,
    "pycharm": {
     "name": "#%%\n"
    }
   }
  },
  {
   "cell_type": "markdown",
   "source": [
    "Функция thefuzz.fuzz.partial_ratio()"
   ],
   "metadata": {
    "collapsed": false,
    "pycharm": {
     "name": "#%% md\n"
    }
   }
  },
  {
   "cell_type": "code",
   "execution_count": 344,
   "outputs": [
    {
     "name": "stdout",
     "output_type": "stream",
     "text": [
      "Обычное сравнение 62 %\n",
      "Частичное сходство строк 83 %\n"
     ]
    }
   ],
   "source": [
    "str_A = 'Привет мир'\n",
    "str_B = 'Приве1'\n",
    "thefuzz.fuzz.ratio(str_A , str_B)\n",
    "print(\"Обычное сравнение\",thefuzz.fuzz.ratio(str_A , str_B),\"%\")\n",
    "print(\"Частичное сходство строк\",thefuzz.fuzz.partial_ratio(str_A , str_B),\"%\")"
   ],
   "metadata": {
    "collapsed": false,
    "pycharm": {
     "name": "#%%\n"
    }
   }
  },
  {
   "cell_type": "code",
   "execution_count": 345,
   "outputs": [
    {
     "name": "stdout",
     "output_type": "stream",
     "text": [
      "True\n"
     ]
    }
   ],
   "source": [
    "def part_ratio(a,b):   # может это дать на самостоятельную, кастрированная версия поиска подстроки в строке?? либо дать ее доделать чтобы в итоге получить процент при том что смотреть пример выше!\n",
    "    \"Очень простой аналог функции thefuzz.fuzz.partial_ratio\"\n",
    "    if len(a) >= len(b):\n",
    "        short, long = b,a\n",
    "    else:\n",
    "        short, long = a,b\n",
    "    for i in range(len(long)-len(short)+1) :\n",
    "        if short == long[i:(i+len(short))]:\n",
    "            return True\n",
    "        else :\n",
    "            continue\n",
    "str_A = 'Привет мир'\n",
    "str_B = 'мир'\n",
    "print(part_ratio(str_A , str_B))"
   ],
   "metadata": {
    "collapsed": false,
    "pycharm": {
     "name": "#%%\n"
    }
   }
  },
  {
   "cell_type": "markdown",
   "source": [
    "Функция thefuzz.fuzz.token_sort_ratio()"
   ],
   "metadata": {
    "collapsed": false,
    "pycharm": {
     "name": "#%% md\n"
    }
   }
  },
  {
   "cell_type": "code",
   "execution_count": 329,
   "outputs": [
    {
     "name": "stdout",
     "output_type": "stream",
     "text": [
      "Обычное сравнение 31 %\n",
      "Частичное сходство строк 36 %\n",
      "Сравнение в разном порядке 100 %\n"
     ]
    }
   ],
   "source": [
    "str_A = 'Привет     мир наш'\n",
    "str_B = 'наш мир привет'\n",
    "print(\"Обычное сравнение\",thefuzz.fuzz.ratio(str_A , str_B),\"%\")\n",
    "print(\"Частичное сходство строк\",thefuzz.fuzz.partial_ratio(str_A , str_B),\"%\")\n",
    "print(\"Сравнение в разном порядке\",thefuzz.fuzz.token_sort_ratio(str_A , str_B),\"%\")"
   ],
   "metadata": {
    "collapsed": false,
    "pycharm": {
     "name": "#%%\n"
    }
   }
  },
  {
   "cell_type": "code",
   "execution_count": 339,
   "outputs": [
    {
     "name": "stdout",
     "output_type": "stream",
     "text": [
      "мир мой наш привет мир наш привет\n",
      "в разработке\n"
     ]
    }
   ],
   "source": [
    "def token_sort(a,b):\n",
    "    \"Расчет в процентах аналог thefuzz.fuzz.token_sort_ratio()\"\n",
    "    sort_a = sorted(a.lower().split())\n",
    "    sort_b =  sorted(b.lower().split())\n",
    "    a = \" \".join(sort_a)\n",
    "    b = \" \".join(sort_b)\n",
    "    print(a,b)\n",
    "    if len(a) == len(b):\n",
    "        return leven_ratio(a,b)\n",
    "    else:\n",
    "        return (\"в разработке\") # тут должна быть доделанная версия def part_ratio(a,b):\n",
    "print(token_sort(str_A,str_B))"
   ],
   "metadata": {
    "collapsed": false,
    "pycharm": {
     "name": "#%%\n"
    }
   }
  },
  {
   "cell_type": "markdown",
   "source": [
    "Функция thefuzz.fuzz.token_set_ratio()"
   ],
   "metadata": {
    "collapsed": false,
    "pycharm": {
     "name": "#%% md\n"
    }
   }
  },
  {
   "cell_type": "code",
   "execution_count": 346,
   "outputs": [
    {
     "name": "stdout",
     "output_type": "stream",
     "text": [
      "Сравнение наборов токенов 100 %\n"
     ]
    }
   ],
   "source": [
    "str_A = 'Привет  мой  мир наш'\n",
    "str_B = 'наш мир привет'\n",
    "print(\"Сравнение наборов токенов\",thefuzz.fuzz.token_set_ratio(str_A , str_B),\"%\")\n"
   ],
   "metadata": {
    "collapsed": false,
    "pycharm": {
     "name": "#%%\n"
    }
   }
  },
  {
   "cell_type": "code",
   "execution_count": 6,
   "outputs": [
    {
     "data": {
      "text/plain": "[('Привет', 75), ('Приветули', 74), ('Приветствую', 57)]"
     },
     "execution_count": 6,
     "metadata": {},
     "output_type": "execute_result"
    }
   ],
   "source": [
    "a = thefuzz.fuzz.WRatio(str_A.lower() , str_B.lower())\n",
    "print(str(a)+\" %\")\n",
    "list_of_strings = ['Привет', \"Приветствую\", \"Приветули\"]\n",
    "process.extract(str_B, list_of_strings,scorer=thefuzz.fuzz.ratio)"
   ],
   "metadata": {
    "collapsed": false,
    "pycharm": {
     "name": "#%%\n"
    }
   }
  },
  {
   "cell_type": "code",
   "execution_count": 347,
   "outputs": [
    {
     "data": {
      "text/plain": "{'Привет', 'мир', 'мой', 'наш'}"
     },
     "execution_count": 347,
     "metadata": {},
     "output_type": "execute_result"
    }
   ],
   "source": [
    "set(str_A.split())"
   ],
   "metadata": {
    "collapsed": false,
    "pycharm": {
     "name": "#%%\n"
    }
   }
  },
  {
   "cell_type": "code",
   "execution_count": null,
   "outputs": [],
   "source": [],
   "metadata": {
    "collapsed": false,
    "pycharm": {
     "name": "#%%\n"
    }
   }
  }
 ],
 "metadata": {
  "kernelspec": {
   "display_name": "Python 3",
   "language": "python",
   "name": "python3"
  },
  "language_info": {
   "codemirror_mode": {
    "name": "ipython",
    "version": 2
   },
   "file_extension": ".py",
   "mimetype": "text/x-python",
   "name": "python",
   "nbconvert_exporter": "python",
   "pygments_lexer": "ipython2",
   "version": "2.7.6"
  }
 },
 "nbformat": 4,
 "nbformat_minor": 0
}
{
 "cells": [
  {
   "cell_type": "code",
   "execution_count": 36,
   "metadata": {
    "collapsed": true
   },
   "outputs": [],
   "source": [
    "import thefuzz.fuzz\n",
    "from thefuzz import process"
   ]
  },
  {
   "cell_type": "markdown",
   "source": [
    "Простая проверка равенства двух строк"
   ],
   "metadata": {
    "collapsed": false,
    "pycharm": {
     "name": "#%% md\n"
    }
   }
  },
  {
   "cell_type": "code",
   "execution_count": 122,
   "outputs": [
    {
     "name": "stdout",
     "output_type": "stream",
     "text": [
      "False\n"
     ]
    }
   ],
   "source": [
    "str_A = 'Привет Мир'\n",
    "str_B = 'Привет миру мир'\n",
    "print(str_A == str_B)"
   ],
   "metadata": {
    "collapsed": false,
    "pycharm": {
     "name": "#%%\n"
    }
   }
  },
  {
   "cell_type": "code",
   "execution_count": 66,
   "outputs": [
    {
     "name": "stdout",
     "output_type": "stream",
     "text": [
      "Строки разные\n",
      "Строка Привет Мир не равна Привет мир\n",
      "Строка \"Привет Мир\"  не равна  \"Привет мир\"\n"
     ]
    }
   ],
   "source": [
    "str_input = input() # ввод строки пользователем\n",
    "if str_A == str_input:\n",
    "    print(\"Строки одинаковые\")\n",
    "else :\n",
    "    print(\"Строки разные\")\n",
    "\n",
    "print(\"Строки одинаковые\" if str_A == str_input else \"Строки разные\") # тернарный оператор if else\n",
    "print(\"Строка \" + str_A + (\" равна \" if str_A == str_input else \" не равна \") + str_input )\n",
    "print(f\"Строка \\\"{str_A}\\\" %s \\\"{str_input}\\\"\"%(\" равна \" if str_A == str_input else \" не равна \"))"
   ],
   "metadata": {
    "collapsed": false,
    "pycharm": {
     "name": "#%%\n"
    }
   }
  },
  {
   "cell_type": "markdown",
   "source": [
    "Почему одинаковые по буквам строки могут быть не равны?"
   ],
   "metadata": {
    "collapsed": false,
    "pycharm": {
     "name": "#%% md\n"
    }
   }
  },
  {
   "cell_type": "code",
   "execution_count": 71,
   "outputs": [
    {
     "name": "stdout",
     "output_type": "stream",
     "text": [
      "Строка \"привет мир\"   не равна  \"привет мир\"\n",
      "Строка \"ПРИВЕТ МИР\"  не равна  \"ПРИВЕТ МИР\"\n",
      "Строка \"Привет Мир\"  равна  \"Привет мир\"\n"
     ]
    }
   ],
   "source": [
    "print(f\"Строка \\\"{str_A.lower()}\\\"  %s \\\"{str_input.lower()}\\\"\"%(\" равна \" if str_A == str_input else \" не равна \")) # нижний регистр\n",
    "print(f\"Строка \\\"{str_A.upper()}\\\" %s \\\"{str_input.upper()}\\\"\"%(\" равна \" if str_A == str_input else \" не равна \")) # верхний регистр\n",
    "print(f\"Строка \\\"{str_A}\\\" %s \\\"{str_input}\\\"\"%(\" равна \" if str_A.lower() == str_input.lower() else \" не равна \")) # Исходные строки\n"
   ],
   "metadata": {
    "collapsed": false,
    "pycharm": {
     "name": "#%%\n"
    }
   }
  },
  {
   "cell_type": "markdown",
   "source": [
    "А как оценить процентное соотношение равенства двух строк?\n",
    "Функция thefuzz.fuzz.ratio()"
   ],
   "metadata": {
    "collapsed": false,
    "pycharm": {
     "name": "#%% md\n"
    }
   }
  },
  {
   "cell_type": "code",
   "execution_count": 97,
   "outputs": [
    {
     "name": "stdout",
     "output_type": "stream",
     "text": [
      "95 %\n"
     ]
    }
   ],
   "source": [
    "a = thefuzz.fuzz.ratio(str_A , str_B)\n",
    "print(a,\"%\")"
   ],
   "metadata": {
    "collapsed": false,
    "pycharm": {
     "name": "#%%\n"
    }
   }
  },
  {
   "cell_type": "markdown",
   "source": [
    "Формула определения Равенства строк fuzz.ratio(str_A,str_B)\n",
    "        2*кол-во совпадений/сумму длин двух строк"
   ],
   "metadata": {
    "collapsed": false,
    "pycharm": {
     "name": "#%% md\n"
    }
   }
  },
  {
   "cell_type": "code",
   "execution_count": 119,
   "outputs": [
    {
     "name": "stdout",
     "output_type": "stream",
     "text": [
      "Расстояние между строками - 1\n",
      "Расстояние между строками - 0\n"
     ]
    }
   ],
   "source": [
    "def distance(a, b):\n",
    "    \"Вычисление расстояния между строками алгоритм Левенштейна\"\n",
    "    n, m = len(a), len(b)\n",
    "    if n > m:\n",
    "        a, b = b, a\n",
    "        n, m = m, n\n",
    "    current_row = range(n + 1)\n",
    "    for i in range(1, m + 1):\n",
    "        previous_row, current_row = current_row, [i] + [0] * n\n",
    "        for j in range(1, n + 1):\n",
    "            add, delete, change = previous_row[j] + 1, current_row[j - 1] + 1, previous_row[j - 1]\n",
    "            if a[j - 1] != b[i - 1]:\n",
    "                change += 1\n",
    "            current_row[j] = min(add, delete, change)\n",
    "    return current_row[n]\n",
    "distance_levenstain = distance(str_A, str_B)\n",
    "distance_levenstain_lower = distance(str_A.lower(), str_B.lower())\n",
    "print(\"Расстояние между строками -\",distance_levenstain)\n",
    "print(\"Расстояние между строками -\",distance_levenstain_lower)"
   ],
   "metadata": {
    "collapsed": false,
    "pycharm": {
     "name": "#%%\n"
    }
   }
  },
  {
   "cell_type": "code",
   "execution_count": 123,
   "outputs": [
    {
     "name": "stdout",
     "output_type": "stream",
     "text": [
      "Расстояние между строк - 6\n",
      "72.0 %\n",
      "Расстояние между строк - 5\n",
      "80.0 %\n"
     ]
    }
   ],
   "source": [
    "def leven_ratio(a,b):\n",
    "    \"Расчет в процентах аналог thefuzz.fuzz.ratio()\"\n",
    "    print(\"Расстояние между строк - \" +str(distance(a, b)))\n",
    "    return str((2*(max(len(a),len(b))-distance(a, b))/(len(a + b)))*100) + \" %\"\n",
    "print(leven_ratio(str_A,str_B))\n",
    "print(leven_ratio(str_A.lower(), str_B.lower()))"
   ],
   "metadata": {
    "collapsed": false,
    "pycharm": {
     "name": "#%%\n"
    }
   }
  },
  {
   "cell_type": "code",
   "execution_count": null,
   "outputs": [],
   "source": [
    "Функция thefuzz.fuzz.ratio()"
   ],
   "metadata": {
    "collapsed": false,
    "pycharm": {
     "name": "#%%\n"
    }
   }
  },
  {
   "cell_type": "code",
   "execution_count": 6,
   "outputs": [
    {
     "data": {
      "text/plain": "[('Привет', 75), ('Приветули', 74), ('Приветствую', 57)]"
     },
     "execution_count": 6,
     "metadata": {},
     "output_type": "execute_result"
    }
   ],
   "source": [
    "a = thefuzz.fuzz.WRatio(str_A.lower() , str_B.lower())\n",
    "print(str(a)+\" %\")\n",
    "list_of_strings = ['Привет', \"Приветствую\", \"Приветули\"]\n",
    "process.extract(str_B, list_of_strings,scorer=thefuzz.fuzz.ratio)"
   ],
   "metadata": {
    "collapsed": false,
    "pycharm": {
     "name": "#%%\n"
    }
   }
  },
  {
   "cell_type": "code",
   "execution_count": null,
   "outputs": [],
   "source": [],
   "metadata": {
    "collapsed": false,
    "pycharm": {
     "name": "#%%\n"
    }
   }
  }
 ],
 "metadata": {
  "kernelspec": {
   "display_name": "Python 3",
   "language": "python",
   "name": "python3"
  },
  "language_info": {
   "codemirror_mode": {
    "name": "ipython",
    "version": 2
   },
   "file_extension": ".py",
   "mimetype": "text/x-python",
   "name": "python",
   "nbconvert_exporter": "python",
   "pygments_lexer": "ipython2",
   "version": "2.7.6"
  }
 },
 "nbformat": 4,
 "nbformat_minor": 0
}
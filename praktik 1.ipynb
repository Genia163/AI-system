{
 "cells": [
  {
   "cell_type": "code",
   "execution_count": 1,
   "metadata": {
    "collapsed": true,
    "pycharm": {
     "name": "#%%\n"
    }
   },
   "outputs": [],
   "source": [
    "import thefuzz.fuzz\n",
    "from thefuzz import process\n",
    "import re"
   ]
  },
  {
   "cell_type": "markdown",
   "source": [
    "Простая проверка равенства двух строк"
   ],
   "metadata": {
    "collapsed": false,
    "pycharm": {
     "name": "#%% md\n"
    }
   }
  },
  {
   "cell_type": "code",
   "execution_count": 2,
   "outputs": [
    {
     "name": "stdout",
     "output_type": "stream",
     "text": [
      "False\n"
     ]
    }
   ],
   "source": [
    "str_A = 'Привет Мир'\n",
    "str_B = 'Привет миру'\n",
    "print(str_A == str_B)"
   ],
   "metadata": {
    "collapsed": false,
    "pycharm": {
     "name": "#%%\n"
    }
   }
  },
  {
   "cell_type": "code",
   "execution_count": 3,
   "outputs": [
    {
     "name": "stdout",
     "output_type": "stream",
     "text": [
      "Строки разные\n",
      "Строки разные\n",
      "Строка Привет Мир не равна Привет МИР\n",
      "Строка \"Привет Мир\"  не равна  \"Привет МИР\"\n"
     ]
    }
   ],
   "source": [
    "str_input = input() # ввод строки пользователем\n",
    "if str_A == str_input:\n",
    "    print(\"Строки одинаковые\")\n",
    "else :\n",
    "    print(\"Строки разные\")\n",
    "\n",
    "print(\"Строки одинаковые\" if str_A == str_input else \"Строки разные\") # тернарный оператор if else\n",
    "print(\"Строка \" + str_A + (\" равна \" if str_A == str_input else \" не равна \") + str_input )\n",
    "print(f\"Строка \\\"{str_A}\\\" %s \\\"{str_input}\\\"\"%(\" равна \" if str_A == str_input else \" не равна \"))"
   ],
   "metadata": {
    "collapsed": false,
    "pycharm": {
     "name": "#%%\n"
    }
   }
  },
  {
   "cell_type": "markdown",
   "source": [
    "Почему одинаковые по буквам строки могут быть не равны?"
   ],
   "metadata": {
    "collapsed": false,
    "pycharm": {
     "name": "#%% md\n"
    }
   }
  },
  {
   "cell_type": "code",
   "execution_count": 4,
   "outputs": [
    {
     "name": "stdout",
     "output_type": "stream",
     "text": [
      "Строка \"привет мир\"   равна  \"привет мир\"\n",
      "Строка \"ПРИВЕТ МИР\"  равна  \"ПРИВЕТ МИР\"\n",
      "Строка \"Привет Мир\"  равна  \"Привет МИР\"\n"
     ]
    }
   ],
   "source": [
    "print(f\"Строка \\\"{str_A.lower()}\\\"  %s \\\"{str_input.lower()}\\\"\"%(\" равна \" if str_A.lower() == str_input.lower() else \" не равна \")) # нижний регистр\n",
    "print(f\"Строка \\\"{str_A.upper()}\\\" %s \\\"{str_input.upper()}\\\"\"%(\" равна \" if str_A.lower() == str_input.lower() else \" не равна \")) # верхний регистр\n",
    "print(f\"Строка \\\"{str_A}\\\" %s \\\"{str_input}\\\"\"%(\" равна \" if str_A.lower() == str_input.lower() else \" не равна \")) # Исходные строки\n"
   ],
   "metadata": {
    "collapsed": false,
    "pycharm": {
     "name": "#%%\n"
    }
   }
  },
  {
   "cell_type": "markdown",
   "source": [
    "А как оценить процентное соотношение равенства двух строк?\n",
    "Функция thefuzz.fuzz.ratio()"
   ],
   "metadata": {
    "collapsed": false,
    "pycharm": {
     "name": "#%% md\n"
    }
   }
  },
  {
   "cell_type": "code",
   "execution_count": 5,
   "outputs": [
    {
     "name": "stdout",
     "output_type": "stream",
     "text": [
      "86 %\n"
     ]
    }
   ],
   "source": [
    "a = thefuzz.fuzz.ratio(str_A , str_B)\n",
    "print(a,\"%\") # переменная int + строка"
   ],
   "metadata": {
    "collapsed": false,
    "pycharm": {
     "name": "#%%\n"
    }
   }
  },
  {
   "cell_type": "markdown",
   "source": [
    "Формула определения Равенства строк fuzz.ratio(str_A,str_B)\n",
    "        2*кол-во совпадений/сумму длин двух строк"
   ],
   "metadata": {
    "collapsed": false,
    "pycharm": {
     "name": "#%% md\n"
    }
   }
  },
  {
   "cell_type": "code",
   "execution_count": 6,
   "outputs": [
    {
     "name": "stdout",
     "output_type": "stream",
     "text": [
      "Расстояние между строками - 2\n",
      "Расстояние между строками - 1\n"
     ]
    }
   ],
   "source": [
    "def distance(a, b):\n",
    "    \"\"\"Вычисление расстояния между строками алгоритм Левенштейна\n",
    "    Редакционное расстояние\"\"\"\n",
    "    n, m = len(a), len(b)   #Определение длин строк\n",
    "    if n > m:\n",
    "        a, b = b, a\n",
    "        n, m = m, n\n",
    "    current_row = range(n + 1)\n",
    "    for i in range(1, m + 1):\n",
    "        previous_row, current_row = current_row, [i] + [0] * n\n",
    "        for j in range(1, n + 1):\n",
    "            add, delete, change = previous_row[j] + 1, current_row[j - 1] + 1, previous_row[j - 1]\n",
    "            if a[j - 1] != b[i - 1]:\n",
    "                change += 1\n",
    "            current_row[j] = min(add, delete, change)\n",
    "    return current_row[n]\n",
    "distance_levenstain = distance(str_A, str_B)\n",
    "distance_levenstain_lower = distance(str_A.lower(), str_B.lower())\n",
    "print(\"Расстояние между строками -\",distance_levenstain)\n",
    "print(\"Расстояние между строками -\",distance_levenstain_lower)"
   ],
   "metadata": {
    "collapsed": false,
    "pycharm": {
     "name": "#%%\n"
    }
   }
  },
  {
   "cell_type": "code",
   "execution_count": 7,
   "outputs": [
    {
     "name": "stdout",
     "output_type": "stream",
     "text": [
      "Расстояние между строк - 2\n",
      "85.71428571428571 %\n",
      "95.23809523809523 %\n"
     ]
    }
   ],
   "source": [
    "def leven_ratio(a,b):\n",
    "    \"Расчет в процентах аналог thefuzz.fuzz.ratio()\"\n",
    "    return str((2*(max(len(a),len(b))-distance(a, b))/(len(a + b)))*100) # формула которая напмсана выше в markdown\n",
    "print(\"Расстояние между строк - \" +str(distance(str_A , str_B)))\n",
    "print(leven_ratio(str_A,str_B),\"%\")\n",
    "print(leven_ratio(str_A.lower(), str_B.lower()),\"%\")"
   ],
   "metadata": {
    "collapsed": false,
    "pycharm": {
     "name": "#%%\n"
    }
   }
  },
  {
   "cell_type": "markdown",
   "source": [
    "Функция thefuzz.fuzz.partial_ratio()"
   ],
   "metadata": {
    "collapsed": false,
    "pycharm": {
     "name": "#%% md\n"
    }
   }
  },
  {
   "cell_type": "code",
   "execution_count": 8,
   "outputs": [
    {
     "name": "stdout",
     "output_type": "stream",
     "text": [
      "Обычное сравнение 62 %\n",
      "Частичное сходство строк 83 %\n"
     ]
    }
   ],
   "source": [
    "str_A = 'Привет мир'\n",
    "str_B = 'Приве1'\n",
    "thefuzz.fuzz.ratio(str_A , str_B)\n",
    "print(\"Обычное сравнение\",thefuzz.fuzz.ratio(str_A , str_B),\"%\")\n",
    "print(\"Частичное сходство строк\",thefuzz.fuzz.partial_ratio(str_A , str_B),\"%\")"
   ],
   "metadata": {
    "collapsed": false,
    "pycharm": {
     "name": "#%%\n"
    }
   }
  },
  {
   "cell_type": "code",
   "execution_count": 9,
   "outputs": [
    {
     "name": "stdout",
     "output_type": "stream",
     "text": [
      "True\n"
     ]
    }
   ],
   "source": [
    "def part_ratio(a,b):   # может это дать на самостоятельную, кастрированная версия поиска подстроки в строке?? либо дать ее доделать чтобы в итоге получить процент при том что смотреть пример выше!\n",
    "    \"Очень простой аналог функции thefuzz.fuzz.partial_ratio\"\n",
    "    if len(a) >= len(b): #Определение какая из строк длиннее\n",
    "        short, long = b,a\n",
    "    else:\n",
    "        short, long = a,b\n",
    "    for i in range(len(long)-len(short)+1) :\n",
    "        if short == long[i:(i+len(short))]:\n",
    "            return True # Тут нужно дать самостоятельную чтобы считались %\n",
    "        else :\n",
    "            continue\n",
    "str_A = 'Привет мир'\n",
    "str_B = 'мир'\n",
    "print(part_ratio(str_A , str_B))"
   ],
   "metadata": {
    "collapsed": false,
    "pycharm": {
     "name": "#%%\n"
    }
   }
  },
  {
   "cell_type": "markdown",
   "source": [
    "Функция thefuzz.fuzz.token_sort_ratio()"
   ],
   "metadata": {
    "collapsed": false,
    "pycharm": {
     "name": "#%% md\n"
    }
   }
  },
  {
   "cell_type": "code",
   "execution_count": 10,
   "outputs": [
    {
     "name": "stdout",
     "output_type": "stream",
     "text": [
      "Обычное сравнение 31 %\n",
      "Частичное сходство строк 36 %\n",
      "Сравнение в разном порядке 100 %\n"
     ]
    }
   ],
   "source": [
    "str_A = 'Привет     мир наш'\n",
    "str_B = 'наш мир привет'\n",
    "print(\"Обычное сравнение\",thefuzz.fuzz.ratio(str_A , str_B),\"%\")\n",
    "print(\"Частичное сходство строк\",thefuzz.fuzz.partial_ratio(str_A , str_B),\"%\")\n",
    "print(\"Сравнение в разном порядке\",thefuzz.fuzz.token_sort_ratio(str_A , str_B),\"%\")"
   ],
   "metadata": {
    "collapsed": false,
    "pycharm": {
     "name": "#%%\n"
    }
   }
  },
  {
   "cell_type": "code",
   "execution_count": 11,
   "outputs": [
    {
     "name": "stdout",
     "output_type": "stream",
     "text": [
      "100.0\n"
     ]
    }
   ],
   "source": [
    "def token_sort(a,b):\n",
    "    \"Расчет в процентах аналог thefuzz.fuzz.token_sort_ratio()\"\n",
    "    sort_a = sorted(a.lower().split())  #.split() разбиение строки в список с разделителем пробела\n",
    "    sort_b =  sorted(b.lower().split()) # sorted() сортировка элементов разбитого списка в алфавитном порядке\n",
    "    a = \" \".join(sort_a) # конкатенация элементов списка через \" \" пробел\n",
    "    b = \" \".join(sort_b)\n",
    "    if len(a) == len(b):\n",
    "        return leven_ratio(a,b)\n",
    "    else:\n",
    "        return (\"в разработке\") # тут должна быть доделанная версия def part_ratio(a,b):\n",
    "print(token_sort(str_A,str_B))"
   ],
   "metadata": {
    "collapsed": false,
    "pycharm": {
     "name": "#%%\n"
    }
   }
  },
  {
   "cell_type": "markdown",
   "source": [
    "Функция thefuzz.fuzz.token_set_ratio()"
   ],
   "metadata": {
    "collapsed": false,
    "pycharm": {
     "name": "#%% md\n"
    }
   }
  },
  {
   "cell_type": "code",
   "execution_count": 12,
   "outputs": [
    {
     "name": "stdout",
     "output_type": "stream",
     "text": [
      "Обычное сравнение 36 %\n",
      "Частичное сходство строк 61 %\n",
      "Сравнение в разном порядке 51 %\n",
      "Сравнение наборов токенов 91 %\n"
     ]
    }
   ],
   "source": [
    "str_A = 'mariners vs angels'\n",
    "str_B = 'los angeles angels of anaheim at seattle mariners'\n",
    "print(\"Обычное сравнение\",thefuzz.fuzz.ratio(str_A , str_B),\"%\")\n",
    "print(\"Частичное сходство строк\",thefuzz.fuzz.partial_ratio(str_A , str_B),\"%\")\n",
    "print(\"Сравнение в разном порядке\",thefuzz.fuzz.token_sort_ratio(str_A , str_B),\"%\")\n",
    "print(\"Сравнение наборов токенов\",thefuzz.fuzz.token_set_ratio(str_A , str_B),\"%\")"
   ],
   "metadata": {
    "collapsed": false,
    "pycharm": {
     "name": "#%%\n"
    }
   }
  },
  {
   "cell_type": "code",
   "execution_count": 13,
   "outputs": [
    {
     "data": {
      "text/plain": "'90.9090909090909'"
     },
     "execution_count": 13,
     "metadata": {},
     "output_type": "execute_result"
    }
   ],
   "source": [
    "def token_set_ratio(a,b):\n",
    "    \"Расчет в процентах аналог thefuzz.fuzz.token_set_ratio()\"\n",
    "    plenty_sort_a = set(str_A.lower().split())\n",
    "    plenty_sort_b = set(str_B.lower().split())\n",
    "    intersection_plenty= \" \".join(sorted(plenty_sort_a.intersection(plenty_sort_b)))\n",
    "    # a.intersection(b) Определение пересечения двух списков (множеств)\n",
    "    difference_plently = \" \".join(sorted(plenty_sort_a.difference(plenty_sort_b)))\n",
    "    difference_plently2 = \" \".join(sorted(plenty_sort_b.difference(plenty_sort_a)))\n",
    "    # a.difference(b) Определение несовпадающих элементов списка а в списке b  (множеств)\n",
    "    combination1 = intersection_plenty + ' ' + difference_plently\n",
    "    combination2 = intersection_plenty + ' ' + difference_plently2\n",
    "    pairwise = [\n",
    "        leven_ratio(intersection_plenty, combination1),\n",
    "        leven_ratio(intersection_plenty, combination2),\n",
    "        leven_ratio(combination1, combination2)\n",
    "       ]\n",
    "    return max(pairwise)\n",
    "\n",
    "token_set_ratio(str_A,str_B)"
   ],
   "metadata": {
    "collapsed": false,
    "pycharm": {
     "name": "#%%\n"
    }
   }
  },
  {
   "cell_type": "code",
   "execution_count": 14,
   "outputs": [
    {
     "name": "stdout",
     "output_type": "stream",
     "text": [
      "17 15\n",
      "95  %\n"
     ]
    }
   ],
   "source": [
    "str_A = 'Привет наш мир чй'\n",
    "str_B = 'ПриВЕт наш мир!'\n",
    "print(len(str_A),len(str_B))\n",
    "a = thefuzz.fuzz.WRatio(str_A, str_B)\n",
    "# не разобрался как она получает процент (как его посчитать руками) и как ее можно реализовать алгоритмом\n",
    "print(a,\" %\")"
   ],
   "metadata": {
    "collapsed": false,
    "pycharm": {
     "name": "#%%\n"
    }
   }
  },
  {
   "cell_type": "markdown",
   "source": [
    "Функции process.extract() и extractOne() используются для исправления орфографических ошибок в MS Word либо в мобильном телефоне для автозамены или подсказок продолжения написания слова"
   ],
   "metadata": {
    "collapsed": false,
    "pycharm": {
     "name": "#%% md\n"
    }
   }
  },
  {
   "cell_type": "code",
   "execution_count": 15,
   "outputs": [
    {
     "data": {
      "text/plain": "[(' !Привет', 50), (' Приветули', 36)]"
     },
     "execution_count": 15,
     "metadata": {},
     "output_type": "execute_result"
    }
   ],
   "source": [
    "str_1 = 'Пр'\n",
    "list_of_strings = [' !Привет', \" !Приветствую\", \" Приветули\"]\n",
    "process.extract(str_1, list_of_strings,scorer=thefuzz.fuzz.ratio , limit = 2) # параметр лимит указывает на количество возвращаемых элементов имеющих больший %, если его не указывать явно дефолту =5"
   ],
   "metadata": {
    "collapsed": false,
    "pycharm": {
     "name": "#%%\n"
    }
   }
  },
  {
   "cell_type": "code",
   "execution_count": 16,
   "outputs": [
    {
     "name": "stdout",
     "output_type": "stream",
     "text": [
      "[('50.0', ' !Привет'), ('36.36363636363637', ' Приветули'), ('30.76923076923077', ' !Приветствую')]\n",
      "[('50.0', ' !Привет'), ('36.36363636363637', ' Приветули'), ('30.76923076923077', ' !Приветствую')]\n"
     ]
    }
   ],
   "source": [
    "def re_extract(a, b):\n",
    "    'Аналог функции process.extract, автоматически меняет переменные местами в случае неправильного порядка передачи параметров'\n",
    "    if type(a) == list:\n",
    "        a,b = b,a\n",
    "    answer = []\n",
    "    a_sort = re.findall(r'[а-яА-Я0-9]+', a.lower()) # возвращает список строк в которых найдены буквы а-я или заглавные А-Я а также цифры от 0-9, + после [] значит что конкатенировать найденные символы, без него это будет список из элементов по 1 символу\n",
    "    for i in b:\n",
    "        b_sort = re.findall(r'[а-яА-Я0-9]+', i.lower())\n",
    "        answer.append((leven_ratio(a_sort[0],b_sort[0]),i))\n",
    "    print(sorted(answer ,reverse=True)) # reverse=True значит сортировка по убыванию, по дефлту он False и по возрастанию\n",
    "re_extract(str_1, list_of_strings) # сначала строка потом список\n",
    "re_extract(list_of_strings, str_1) # сначала список потом строка"
   ],
   "metadata": {
    "collapsed": false,
    "pycharm": {
     "name": "#%%\n"
    }
   }
  },
  {
   "cell_type": "code",
   "execution_count": 18,
   "outputs": [
    {
     "data": {
      "text/plain": "(' !Привет', 50)"
     },
     "execution_count": 18,
     "metadata": {},
     "output_type": "execute_result"
    }
   ],
   "source": [
    "str_1 = 'Пр'\n",
    "list_of_strings = [' !Привет', \" !Приветствую\", \" Приветули\"]\n",
    "process.extractOne(str_1, list_of_strings,scorer=thefuzz.fuzz.ratio) # возвращает только самый большой по % элемент списка поэтому extractOne"
   ],
   "metadata": {
    "collapsed": false,
    "pycharm": {
     "name": "#%%\n"
    }
   }
  },
  {
   "cell_type": "code",
   "execution_count": 13,
   "outputs": [
    {
     "data": {
      "text/plain": "'тв'"
     },
     "execution_count": 13,
     "metadata": {},
     "output_type": "execute_result"
    }
   ],
   "source": [],
   "metadata": {
    "collapsed": false,
    "pycharm": {
     "name": "#%%\n"
    }
   }
  },
  {
   "cell_type": "code",
   "execution_count": null,
   "outputs": [],
   "source": [],
   "metadata": {
    "collapsed": false,
    "pycharm": {
     "name": "#%%\n"
    }
   }
  }
 ],
 "metadata": {
  "kernelspec": {
   "display_name": "Python 3",
   "language": "python",
   "name": "python3"
  },
  "language_info": {
   "codemirror_mode": {
    "name": "ipython",
    "version": 2
   },
   "file_extension": ".py",
   "mimetype": "text/x-python",
   "name": "python",
   "nbconvert_exporter": "python",
   "pygments_lexer": "ipython2",
   "version": "2.7.6"
  }
 },
 "nbformat": 4,
 "nbformat_minor": 0
}